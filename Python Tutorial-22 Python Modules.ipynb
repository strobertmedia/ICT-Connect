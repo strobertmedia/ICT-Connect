{
 "cells": [
  {
   "cell_type": "code",
   "execution_count": 2,
   "id": "1a8d8189",
   "metadata": {},
   "outputs": [
    {
     "name": "stdout",
     "output_type": "stream",
     "text": [
      "['BPF', 'LOG4', 'NV_MAGICCONST', 'RECIP_BPF', 'Random', 'SG_MAGICCONST', 'SystemRandom', 'TWOPI', '_Sequence', '_Set', '__all__', '__builtins__', '__cached__', '__doc__', '__file__', '__loader__', '__name__', '__package__', '__spec__', '_accumulate', '_acos', '_bisect', '_ceil', '_cos', '_e', '_exp', '_floor', '_inst', '_log', '_os', '_pi', '_random', '_repeat', '_sha512', '_sin', '_sqrt', '_test', '_test_generator', '_urandom', '_warn', 'betavariate', 'choice', 'choices', 'expovariate', 'gammavariate', 'gauss', 'getrandbits', 'getstate', 'lognormvariate', 'normalvariate', 'paretovariate', 'randbytes', 'randint', 'random', 'randrange', 'sample', 'seed', 'setstate', 'shuffle', 'triangular', 'uniform', 'vonmisesvariate', 'weibullvariate']\n"
     ]
    }
   ],
   "source": [
    "#random module\n",
    "import random\n",
    "print(dir(random))"
   ]
  },
  {
   "cell_type": "code",
   "execution_count": 3,
   "id": "6808959d",
   "metadata": {},
   "outputs": [
    {
     "name": "stdout",
     "output_type": "stream",
     "text": [
      "['MAXYEAR', 'MINYEAR', '__all__', '__builtins__', '__cached__', '__doc__', '__file__', '__loader__', '__name__', '__package__', '__spec__', 'date', 'datetime', 'datetime_CAPI', 'sys', 'time', 'timedelta', 'timezone', 'tzinfo']\n"
     ]
    }
   ],
   "source": [
    "#datetime module\n",
    "import datetime\n",
    "print(dir(datetime))"
   ]
  },
  {
   "cell_type": "code",
   "execution_count": 10,
   "id": "c0e86ae0",
   "metadata": {},
   "outputs": [
    {
     "name": "stdout",
     "output_type": "stream",
     "text": [
      "10:00:00\n",
      "2022-08-17\n"
     ]
    }
   ],
   "source": [
    "print(datetime.time(10))\n",
    "print(datetime.date(2022,8,17))"
   ]
  },
  {
   "cell_type": "code",
   "execution_count": 6,
   "id": "db0cd971",
   "metadata": {},
   "outputs": [
    {
     "name": "stdout",
     "output_type": "stream",
     "text": [
      "['__doc__', '__loader__', '__name__', '__package__', '__spec__', 'acos', 'acosh', 'asin', 'asinh', 'atan', 'atan2', 'atanh', 'ceil', 'comb', 'copysign', 'cos', 'cosh', 'degrees', 'dist', 'e', 'erf', 'erfc', 'exp', 'expm1', 'fabs', 'factorial', 'floor', 'fmod', 'frexp', 'fsum', 'gamma', 'gcd', 'hypot', 'inf', 'isclose', 'isfinite', 'isinf', 'isnan', 'isqrt', 'lcm', 'ldexp', 'lgamma', 'log', 'log10', 'log1p', 'log2', 'modf', 'nan', 'nextafter', 'perm', 'pi', 'pow', 'prod', 'radians', 'remainder', 'sin', 'sinh', 'sqrt', 'tan', 'tanh', 'tau', 'trunc', 'ulp']\n"
     ]
    }
   ],
   "source": [
    "#math module\n",
    "import math\n",
    "print(dir(math))\n",
    "#print(len(dir(math)))"
   ]
  },
  {
   "cell_type": "code",
   "execution_count": 7,
   "id": "4deeaada",
   "metadata": {},
   "outputs": [
    {
     "name": "stdout",
     "output_type": "stream",
     "text": [
      "pi: 3.141592653589793\n",
      "radians: 3.141592653589793\n",
      "degrees: 10313.240312354817\n",
      "cos: -0.5984600690578581\n",
      "tan: 1.3386902103511544\n",
      "sqrt: 13.416407864998739\n",
      "factorial: 40320\n"
     ]
    }
   ],
   "source": [
    "print('pi:',math.pi)\n",
    "print('radians:',math.radians(180))\n",
    "print('degrees:',math.degrees(180))\n",
    "print('cos:',math.cos(180))\n",
    "print('tan:',math.tan(180))\n",
    "print('sqrt:',math.sqrt(180))\n",
    "print('factorial:',math.factorial(8))"
   ]
  },
  {
   "cell_type": "code",
   "execution_count": null,
   "id": "d237eacf",
   "metadata": {},
   "outputs": [],
   "source": []
  },
  {
   "cell_type": "code",
   "execution_count": null,
   "id": "5226af15",
   "metadata": {},
   "outputs": [],
   "source": []
  },
  {
   "cell_type": "code",
   "execution_count": 8,
   "id": "46bbb677",
   "metadata": {},
   "outputs": [
    {
     "data": {
      "text/plain": [
       "'\\n\\n\\n1. save as module.py  (This will create the module with 2 functions)\\n\\ndef addition(a,b):\\n    result= a+b\\n    return result\\n\\ndef subtract(a,b):\\n    result= a-b\\n    return result\\n    \\n    \\n    \\n2. save as main.py   (This will be the file to make a call to the module.py file)\\n\\nimport module\\n\\nprint(module.addition(2,7))\\nprint(module.subtract(2,7))\\n\\nprint(dir(module))\\n    \\n\\n\\n\\n\\n'"
      ]
     },
     "execution_count": 8,
     "metadata": {},
     "output_type": "execute_result"
    }
   ],
   "source": [
    "#To create a custom module\n",
    "#Lets create a simple module with 2 files saved as .py\n",
    "\n",
    "\n",
    "'''\n",
    "\n",
    "\n",
    "1. save as module.py  (This will create the module with 2 functions)\n",
    "\n",
    "def addition(a,b):\n",
    "    result= a+b\n",
    "    return result\n",
    "\n",
    "def subtract(a,b):\n",
    "    result= a-b\n",
    "    return result\n",
    "    \n",
    "    \n",
    "    \n",
    "2. save as main.py   (This will be the file to make a call to the module.py file)\n",
    "\n",
    "import module\n",
    "\n",
    "print(module.addition(2,7))\n",
    "print(module.subtract(2,7))\n",
    "\n",
    "print(dir(module))\n",
    "    \n",
    "\n",
    "\n",
    "\n",
    "\n",
    "'''"
   ]
  },
  {
   "cell_type": "code",
   "execution_count": null,
   "id": "38c64be1",
   "metadata": {},
   "outputs": [],
   "source": []
  }
 ],
 "metadata": {
  "kernelspec": {
   "display_name": "Python 3 (ipykernel)",
   "language": "python",
   "name": "python3"
  },
  "language_info": {
   "codemirror_mode": {
    "name": "ipython",
    "version": 3
   },
   "file_extension": ".py",
   "mimetype": "text/x-python",
   "name": "python",
   "nbconvert_exporter": "python",
   "pygments_lexer": "ipython3",
   "version": "3.9.7"
  }
 },
 "nbformat": 4,
 "nbformat_minor": 5
}
