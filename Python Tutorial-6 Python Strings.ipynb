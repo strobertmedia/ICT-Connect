{
 "cells": [
  {
   "cell_type": "code",
   "execution_count": 19,
   "id": "0edfc485",
   "metadata": {},
   "outputs": [
    {
     "name": "stdout",
     "output_type": "stream",
     "text": [
      "True\n"
     ]
    }
   ],
   "source": [
    "txt = \"The best things in life are free!\"\n",
    "print(\"free\" in txt)\n"
   ]
  },
  {
   "cell_type": "code",
   "execution_count": 21,
   "id": "c19eb6f5",
   "metadata": {},
   "outputs": [
    {
     "data": {
      "text/plain": [
       "'Let the pear be used for good!'"
      ]
     },
     "execution_count": 21,
     "metadata": {},
     "output_type": "execute_result"
    }
   ],
   "source": [
    "a= 'apple'\n",
    "b= 'pear'\n",
    "c= 'pineapple'\n",
    "\n",
    "var= \"Let the {} be used for good!\"\n",
    "var.format(b)"
   ]
  },
  {
   "cell_type": "code",
   "execution_count": 24,
   "id": "b5fad213",
   "metadata": {},
   "outputs": [
    {
     "data": {
      "text/plain": [
       "'Let the pineapple be used for good and let the apple be used for same. Throw away the pear!'"
      ]
     },
     "execution_count": 24,
     "metadata": {},
     "output_type": "execute_result"
    }
   ],
   "source": [
    "var= \"Let the {2} be used for good and let the {0} be used for same. Throw away the {1}!\"\n",
    "var.format(a,b,c)"
   ]
  },
  {
   "cell_type": "code",
   "execution_count": null,
   "id": "40c214d1",
   "metadata": {},
   "outputs": [],
   "source": []
  },
  {
   "cell_type": "code",
   "execution_count": 39,
   "id": "01bbd536",
   "metadata": {},
   "outputs": [
    {
     "data": {
      "text/plain": [
       "'Hello| World'"
      ]
     },
     "execution_count": 39,
     "metadata": {},
     "output_type": "execute_result"
    }
   ],
   "source": [
    "x= \" Hello| World\"\n",
    "x= x.strip()\n",
    "x"
   ]
  },
  {
   "cell_type": "code",
   "execution_count": 40,
   "id": "c6e7927f",
   "metadata": {},
   "outputs": [
    {
     "data": {
      "text/plain": [
       "['Hello| World']"
      ]
     },
     "execution_count": 40,
     "metadata": {},
     "output_type": "execute_result"
    }
   ],
   "source": [
    "x=x.split(\",\")\n",
    "x"
   ]
  },
  {
   "cell_type": "code",
   "execution_count": null,
   "id": "8ea901d7",
   "metadata": {},
   "outputs": [],
   "source": []
  },
  {
   "cell_type": "code",
   "execution_count": 42,
   "id": "23cbfcf6",
   "metadata": {},
   "outputs": [
    {
     "data": {
      "text/plain": [
       "'Hello World'"
      ]
     },
     "execution_count": 42,
     "metadata": {},
     "output_type": "execute_result"
    }
   ],
   "source": [
    "a = \"Hello\"\n",
    "b = \"World\"\n",
    "c= a+\" \"+b\n",
    "c"
   ]
  },
  {
   "cell_type": "code",
   "execution_count": null,
   "id": "c0674756",
   "metadata": {},
   "outputs": [],
   "source": []
  },
  {
   "cell_type": "code",
   "execution_count": 43,
   "id": "d31dcd2d",
   "metadata": {},
   "outputs": [
    {
     "data": {
      "text/plain": [
       "True"
      ]
     },
     "execution_count": 43,
     "metadata": {},
     "output_type": "execute_result"
    }
   ],
   "source": [
    "10>9"
   ]
  },
  {
   "cell_type": "code",
   "execution_count": 44,
   "id": "0abd7d64",
   "metadata": {},
   "outputs": [
    {
     "data": {
      "text/plain": [
       "False"
      ]
     },
     "execution_count": 44,
     "metadata": {},
     "output_type": "execute_result"
    }
   ],
   "source": [
    "9>10"
   ]
  },
  {
   "cell_type": "code",
   "execution_count": null,
   "id": "cba3854d",
   "metadata": {},
   "outputs": [],
   "source": []
  }
 ],
 "metadata": {
  "kernelspec": {
   "display_name": "Python 3 (ipykernel)",
   "language": "python",
   "name": "python3"
  },
  "language_info": {
   "codemirror_mode": {
    "name": "ipython",
    "version": 3
   },
   "file_extension": ".py",
   "mimetype": "text/x-python",
   "name": "python",
   "nbconvert_exporter": "python",
   "pygments_lexer": "ipython3",
   "version": "3.9.7"
  }
 },
 "nbformat": 4,
 "nbformat_minor": 5
}
