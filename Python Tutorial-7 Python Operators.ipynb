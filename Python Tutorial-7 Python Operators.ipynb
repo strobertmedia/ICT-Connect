{
 "cells": [
  {
   "cell_type": "code",
   "execution_count": null,
   "id": "dc15c11b",
   "metadata": {},
   "outputs": [],
   "source": [
    "#Arithmetic operators\n",
    "'''\n",
    "+ plus\n",
    "- minus\n",
    "* multiplication\n",
    "/ division\n",
    "\n",
    "'''"
   ]
  }
  {
   "cell_type": "code",
   "execution_count": 50,
   "id": "44c53c28",
   "metadata": {},
   "outputs": [
    {
     "data": {
      "text/plain": [
       "8"
      ]
     },
     "execution_count": 50,
     "metadata": {},
     "output_type": "execute_result"
    }
   ]
   "source": [
    "x=3\n",
    "y=5\n",
    "\n",
    "z= x+y\n",
    "z"
   ]
  },
  {
   "cell_type": "code",
   "execution_count": 55,
   "id": "2ac9bab7",
   "metadata": {},
   "outputs": [
    {
     "data": {
      "text/plain": [
       "6"
      ]
     },
     "execution_count": 55,
     "metadata": {},
     "output_type": "execute_result"
    }
   ],
   "source": [
    "x=x+3\n",
    "x"
   ]
  },
  {
   "cell_type": "code",
   "execution_count": 56,
   "id": "eea67651",
   "metadata": {},
   "outputs": [
    {
     "data": {
      "text/plain": [
       "9"
      ]
     },
     "execution_count": 56,
     "metadata": {},
     "output_type": "execute_result"
    }
   ],
   "source": [
    "x+=3\n",
    "x"
   ]
  },
  {
   "cell_type": "code",
   "execution_count": 51,
   "id": "237e9456",
   "metadata": {},
   "outputs": [
    {
     "data": {
      "text/plain": [
       "-2"
      ]
     },
     "execution_count": 51,
     "metadata": {},
     "output_type": "execute_result"
    }
   ],
   "source": [
    "z=x-y\n",
    "z"
   ]
  },
  {
   "cell_type": "code",
   "execution_count": 57,
   "id": "a8a767ea",
   "metadata": {},
   "outputs": [
    {
     "data": {
      "text/plain": [
       "7"
      ]
     },
     "execution_count": 57,
     "metadata": {},
     "output_type": "execute_result"
    }
   ],
   "source": [
    "var=9\n",
    "var-=2\n",
    "var"
   ]
  },
  {
   "cell_type": "code",
   "execution_count": 52,
   "id": "06d402be",
   "metadata": {},
   "outputs": [
    {
     "data": {
      "text/plain": [
       "15"
      ]
     },
     "execution_count": 52,
     "metadata": {},
     "output_type": "execute_result"
    }
   ],
   "source": [
    "z=x*y\n",
    "z"
   ]
  },
  {
   "cell_type": "code",
   "execution_count": 54,
   "id": "1cd5884b",
   "metadata": {},
   "outputs": [
    {
     "data": {
      "text/plain": [
       "1.6666666666666667"
      ]
     },
     "execution_count": 54,
     "metadata": {},
     "output_type": "execute_result"
    }
   ],
   "source": [
    "z=y/3\n",
    "z"
   ]
  },
  {
   "cell_type": "code",
   "execution_count": 62,
   "id": "3556ddb6",
   "metadata": {},
   "outputs": [
    {
     "name": "stdout",
     "output_type": "stream",
     "text": [
      "4\n",
      "Input is an Even Number\n"
     ]
    }
   ],
   "source": [
    "#       % modulus remainder from the division of 2 numbers\n",
    "\n",
    "x=2\n",
    "y=input()\n",
    "z=int(y)%x\n",
    "\n",
    "\n",
    "if z==0:\n",
    "    print('Input is an Even Number')\n",
    "else:\n",
    "    print('Input is an Odd Number')"
   ]
  },
  {
   "cell_type": "code",
   "execution_count": null,
   "id": "7eef5df6",
   "metadata": {},
   "outputs": [],
   "source": [
    "#comparison operators"
   ]
  },
  {
   "cell_type": "code",
   "execution_count": 63,
   "id": "2f0bdf7d",
   "metadata": {},
   "outputs": [
    {
     "data": {
      "text/plain": [
       "False"
      ]
     },
     "execution_count": 63,
     "metadata": {},
     "output_type": "execute_result"
    }
   ],
   "source": [
    "x=3\n",
    "y=4\n",
    "\n",
    "x==y"
   ]
  },
  {
   "cell_type": "code",
   "execution_count": 64,
   "id": "a0a27a8e",
   "metadata": {},
   "outputs": [
    {
     "data": {
      "text/plain": [
       "True"
      ]
     },
     "execution_count": 64,
     "metadata": {},
     "output_type": "execute_result"
    }
   ],
   "source": [
    "x<y"
   ]
  },
  {
   "cell_type": "code",
   "execution_count": 65,
   "id": "ff623296",
   "metadata": {},
   "outputs": [
    {
     "data": {
      "text/plain": [
       "True"
      ]
     },
     "execution_count": 65,
     "metadata": {},
     "output_type": "execute_result"
    }
   ],
   "source": [
    "y>=x"
   ]
  },
  {
   "cell_type": "code",
   "execution_count": null,
   "id": "be0adc3c",
   "metadata": {},
   "outputs": [],
   "source": [
    "#bitwise operators\n",
    "\n",
    "&\n",
    "|"
   ]
  },
  {
   "cell_type": "code",
   "execution_count": 67,
   "id": "08f54985",
   "metadata": {},
   "outputs": [
    {
     "name": "stdout",
     "output_type": "stream",
     "text": [
      "0\n",
      "1\n",
      "10\n",
      "11\n",
      "101\n",
      "111\n"
     ]
    }
   ],
   "source": [
    "zero= format(0, \"b\")\n",
    "one= format(1, \"b\")\n",
    "five= format(5, \"b\")\n",
    "two= format(2, \"b\")\n",
    "three= format(3, \"b\")\n",
    "seven= format(7, \"b\")\n",
    "\n",
    "\n",
    "print(zero)\n",
    "print(one)\n",
    "print(two)\n",
    "print(three)\n",
    "print(five)\n",
    "print(seven)"
   ]
  },
  {
   "cell_type": "code",
   "execution_count": 71,
   "id": "32948f99",
   "metadata": {},
   "outputs": [
    {
     "data": {
      "text/plain": [
       "0"
      ]
     },
     "execution_count": 71,
     "metadata": {},
     "output_type": "execute_result"
    }
   ],
   "source": [
    "a= 3\n",
    "b= 5\n",
    "\n",
    "a&b"
   ]
  },
  {
   "cell_type": "code",
   "execution_count": 72,
   "id": "2636cd7d",
   "metadata": {},
   "outputs": [
    {
     "data": {
      "text/plain": [
       "7"
      ]
     },
     "execution_count": 72,
     "metadata": {},
     "output_type": "execute_result"
    }
   ],
   "source": [
    "a|b"
   ]
  },
  {
   "cell_type": "code",
   "execution_count": 73,
   "id": "5f5c20a1",
   "metadata": {},
   "outputs": [],
   "source": [
    "x = [\"apple\", \"banana\"]\n",
    "y = [\"apple\", \"banana\"]\n",
    "z = x"
   ]
  },
  {
   "cell_type": "code",
   "execution_count": 74,
   "id": "6b895cc5",
   "metadata": {},
   "outputs": [
    {
     "name": "stdout",
     "output_type": "stream",
     "text": [
      "True\n"
     ]
    }
   ],
   "source": [
    "print(x is z)"
   ]
  },
  {
   "cell_type": "code",
   "execution_count": 75,
   "id": "2d3ed4a0",
   "metadata": {},
   "outputs": [
    {
     "name": "stdout",
     "output_type": "stream",
     "text": [
      "False\n"
     ]
    }
   ],
   "source": [
    "print(x is y)"
   ]
  },
  {
   "cell_type": "code",
   "execution_count": 76,
   "id": "d1f8df48",
   "metadata": {},
   "outputs": [
    {
     "name": "stdout",
     "output_type": "stream",
     "text": [
      "True\n"
     ]
    }
   ],
   "source": [
    "print(x==y)"
   ]
  },
  {
   "cell_type": "code",
   "execution_count": null,
   "id": "12750e43",
   "metadata": {},
   "outputs": [],
   "source": []
  }
 ],
 "metadata": {
  "kernelspec": {
   "display_name": "Python 3 (ipykernel)",
   "language": "python",
   "name": "python3"
  },
  "language_info": {
   "codemirror_mode": {
    "name": "ipython",
    "version": 3
   },
   "file_extension": ".py",
   "mimetype": "text/x-python",
   "name": "python",
   "nbconvert_exporter": "python",
   "pygments_lexer": "ipython3",
   "version": "3.9.7"
  }
 },
 "nbformat": 4,
 "nbformat_minor": 5
}
