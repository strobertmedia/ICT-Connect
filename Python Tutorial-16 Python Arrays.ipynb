{
 "cells": [
  {
   "cell_type": "code",
   "execution_count": 14,
   "id": "14011dc1",
   "metadata": {},
   "outputs": [],
   "source": [
    "#variables\n",
    "air0= 'Airplane'\n",
    "air1= 'Jet'\n",
    "air2= 'Rocket'\n",
    "air3= 'Helicopter'\n",
    "air4= 'Parachute'"
   ]
  },
  {
   "cell_type": "code",
   "execution_count": 15,
   "id": "13512f2b",
   "metadata": {},
   "outputs": [
    {
     "data": {
      "text/plain": [
       "'Airplane'"
      ]
     },
     "execution_count": 15,
     "metadata": {},
     "output_type": "execute_result"
    }
   ],
   "source": [
    "air0"
   ]
  },
  {
   "cell_type": "code",
   "execution_count": 17,
   "id": "1303ef5a",
   "metadata": {},
   "outputs": [],
   "source": [
    "air= ['Airplane','Jet','Rocket','Helicopter','Parachute']"
   ]
  },
  {
   "cell_type": "code",
   "execution_count": 18,
   "id": "03640023",
   "metadata": {},
   "outputs": [
    {
     "data": {
      "text/plain": [
       "'Rocket'"
      ]
     },
     "execution_count": 18,
     "metadata": {},
     "output_type": "execute_result"
    }
   ],
   "source": [
    "#Access the Elements of an Array\n",
    "air[2]"
   ]
  },
  {
   "cell_type": "code",
   "execution_count": 19,
   "id": "94769169",
   "metadata": {},
   "outputs": [
    {
     "data": {
      "text/plain": [
       "'Parachute'"
      ]
     },
     "execution_count": 19,
     "metadata": {},
     "output_type": "execute_result"
    }
   ],
   "source": [
    "air[4]"
   ]
  },
  {
   "cell_type": "code",
   "execution_count": 20,
   "id": "df7887f4",
   "metadata": {},
   "outputs": [
    {
     "data": {
      "text/plain": [
       "['Airplane', 'PrivateJet', 'Rocket', 'Helicopter', 'Parachute']"
      ]
     },
     "execution_count": 20,
     "metadata": {},
     "output_type": "execute_result"
    }
   ],
   "source": [
    "#Modify the values of the array\n",
    "air[1]='PrivateJet'\n",
    "air"
   ]
  },
  {
   "cell_type": "code",
   "execution_count": 21,
   "id": "b0a0b246",
   "metadata": {},
   "outputs": [
    {
     "data": {
      "text/plain": [
       "['Airplane', 'PrivateJet', 'Rocket', 'Helicopter', 'Parachute', 'Jet']"
      ]
     },
     "execution_count": 21,
     "metadata": {},
     "output_type": "execute_result"
    }
   ],
   "source": [
    "#Adding Array Elements with append()\n",
    "air.append('Jet')\n",
    "air\n"
   ]
  },
  {
   "cell_type": "code",
   "execution_count": 22,
   "id": "2d0bad18",
   "metadata": {},
   "outputs": [
    {
     "data": {
      "text/plain": [
       "6"
      ]
     },
     "execution_count": 22,
     "metadata": {},
     "output_type": "execute_result"
    }
   ],
   "source": [
    "#The Length of an Array\n",
    "len(air)"
   ]
  },
  {
   "cell_type": "code",
   "execution_count": 23,
   "id": "57b6af93",
   "metadata": {},
   "outputs": [
    {
     "name": "stdout",
     "output_type": "stream",
     "text": [
      "Airplane contains A\n",
      "Airplane contains i\n",
      "Airplane contains r\n",
      "Airplane contains p\n",
      "Airplane contains l\n",
      "Airplane contains a\n",
      "Airplane contains n\n",
      "Airplane contains e\n",
      "PrivateJet contains P\n",
      "PrivateJet contains r\n",
      "PrivateJet contains i\n",
      "PrivateJet contains v\n",
      "PrivateJet contains a\n",
      "PrivateJet contains t\n",
      "PrivateJet contains e\n",
      "PrivateJet contains J\n",
      "PrivateJet contains e\n",
      "PrivateJet contains t\n",
      "Rocket contains R\n",
      "Rocket contains o\n",
      "Rocket contains c\n",
      "Rocket contains k\n",
      "Rocket contains e\n",
      "Rocket contains t\n",
      "Helicopter contains H\n",
      "Helicopter contains e\n",
      "Helicopter contains l\n",
      "Helicopter contains i\n",
      "Helicopter contains c\n",
      "Helicopter contains o\n",
      "Helicopter contains p\n",
      "Helicopter contains t\n",
      "Helicopter contains e\n",
      "Helicopter contains r\n",
      "Parachute contains P\n",
      "Parachute contains a\n",
      "Parachute contains r\n",
      "Parachute contains a\n",
      "Parachute contains c\n",
      "Parachute contains h\n",
      "Parachute contains u\n",
      "Parachute contains t\n",
      "Parachute contains e\n",
      "Jet contains J\n",
      "Jet contains e\n",
      "Jet contains t\n"
     ]
    }
   ],
   "source": [
    "#run for loops\n",
    "for x in air:\n",
    "    for y in x:\n",
    "        print(x,\"contains\",y)"
   ]
  },
  {
   "cell_type": "code",
   "execution_count": null,
   "id": "688a9176",
   "metadata": {},
   "outputs": [],
   "source": []
  },
  {
   "cell_type": "code",
   "execution_count": null,
   "id": "1639428c",
   "metadata": {},
   "outputs": [],
   "source": []
  },
  {
   "cell_type": "code",
   "execution_count": null,
   "id": "a05201bc",
   "metadata": {},
   "outputs": [],
   "source": []
  },
  {
   "cell_type": "code",
   "execution_count": null,
   "id": "9e721165",
   "metadata": {},
   "outputs": [],
   "source": []
  },
  {
   "cell_type": "code",
   "execution_count": null,
   "id": "6787adde",
   "metadata": {},
   "outputs": [],
   "source": []
  },
  {
   "cell_type": "code",
   "execution_count": null,
   "id": "9d413cbd",
   "metadata": {},
   "outputs": [],
   "source": []
  },
  {
   "cell_type": "code",
   "execution_count": null,
   "id": "b440ea9b",
   "metadata": {},
   "outputs": [],
   "source": []
  },
  {
   "cell_type": "code",
   "execution_count": null,
   "id": "065c9810",
   "metadata": {},
   "outputs": [],
   "source": []
  },
  {
   "cell_type": "code",
   "execution_count": null,
   "id": "2d843a20",
   "metadata": {},
   "outputs": [],
   "source": []
  },
  {
   "cell_type": "code",
   "execution_count": null,
   "id": "30e0212c",
   "metadata": {},
   "outputs": [],
   "source": []
  },
  {
   "cell_type": "code",
   "execution_count": null,
   "id": "7898ec1d",
   "metadata": {},
   "outputs": [],
   "source": []
  },
  {
   "cell_type": "code",
   "execution_count": null,
   "id": "cc238ded",
   "metadata": {},
   "outputs": [],
   "source": []
  },
  {
   "cell_type": "code",
   "execution_count": null,
   "id": "6557ac67",
   "metadata": {},
   "outputs": [],
   "source": []
  },
  {
   "cell_type": "code",
   "execution_count": null,
   "id": "057f5399",
   "metadata": {},
   "outputs": [],
   "source": []
  },
  {
   "cell_type": "code",
   "execution_count": null,
   "id": "7e199119",
   "metadata": {},
   "outputs": [],
   "source": []
  },
  {
   "cell_type": "code",
   "execution_count": null,
   "id": "a7f6406e",
   "metadata": {},
   "outputs": [],
   "source": []
  },
  {
   "cell_type": "code",
   "execution_count": null,
   "id": "2ab7ed3d",
   "metadata": {},
   "outputs": [],
   "source": []
  }
 ],
 "metadata": {
  "kernelspec": {
   "display_name": "Python 3 (ipykernel)",
   "language": "python",
   "name": "python3"
  },
  "language_info": {
   "codemirror_mode": {
    "name": "ipython",
    "version": 3
   },
   "file_extension": ".py",
   "mimetype": "text/x-python",
   "name": "python",
   "nbconvert_exporter": "python",
   "pygments_lexer": "ipython3",
   "version": "3.9.7"
  }
 },
 "nbformat": 4,
 "nbformat_minor": 5
}
