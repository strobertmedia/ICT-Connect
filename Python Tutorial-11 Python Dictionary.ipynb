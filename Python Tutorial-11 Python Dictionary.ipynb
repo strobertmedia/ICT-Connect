{
 "cells": [
  {
   "cell_type": "code",
   "execution_count": 9,
   "id": "b198aee7",
   "metadata": {},
   "outputs": [
    {
     "data": {
      "text/plain": [
       "{'nissan': [1, 3, 4, 8, 10],\n",
       " 'toyota': [3, 10, 15, 7, 9],\n",
       " 'mercerdes': [5, 3, 7, 8, 1],\n",
       " 'bmw': [2, 3, 5, 6, 11],\n",
       " 'ford': [10, 3, 9, 8, 12]}"
      ]
     },
     "execution_count": 9,
     "metadata": {},
     "output_type": "execute_result"
    }
   ],
   "source": [
    "#create a simple dictionary\n",
    "car_freq = {'nissan': [1, 3, 4, 8, 10],\n",
    "             'toyota': [3, 10, 15, 7, 9],\n",
    "             'mercerdes': [5, 3, 7, 8, 1],\n",
    "             'bmw': [2, 3, 5, 6, 11],\n",
    "             'ford': [10, 3, 9, 8, 12]}\n",
    "car_freq"
   ]
  },
  {
   "cell_type": "code",
   "execution_count": 10,
   "id": "98987c81",
   "metadata": {},
   "outputs": [
    {
     "data": {
      "text/plain": [
       "dict_keys(['nissan', 'toyota', 'mercerdes', 'bmw', 'ford'])"
      ]
     },
     "execution_count": 10,
     "metadata": {},
     "output_type": "execute_result"
    }
   ],
   "source": [
    "#print dictionary keys\n",
    "car_freq.keys()"
   ]
  },
  {
   "cell_type": "code",
   "execution_count": 11,
   "id": "e394f123",
   "metadata": {},
   "outputs": [
    {
     "data": {
      "text/plain": [
       "dict_values([[1, 3, 4, 8, 10], [3, 10, 15, 7, 9], [5, 3, 7, 8, 1], [2, 3, 5, 6, 11], [10, 3, 9, 8, 12]])"
      ]
     },
     "execution_count": 11,
     "metadata": {},
     "output_type": "execute_result"
    }
   ],
   "source": [
    "#print dictionary values\n",
    "car_freq.values()"
   ]
  },
  {
   "cell_type": "code",
   "execution_count": 12,
   "id": "7edbb3cd",
   "metadata": {},
   "outputs": [
    {
     "data": {
      "text/plain": [
       "dict_items([('nissan', [1, 3, 4, 8, 10]), ('toyota', [3, 10, 15, 7, 9]), ('mercerdes', [5, 3, 7, 8, 1]), ('bmw', [2, 3, 5, 6, 11]), ('ford', [10, 3, 9, 8, 12])])"
      ]
     },
     "execution_count": 12,
     "metadata": {},
     "output_type": "execute_result"
    }
   ],
   "source": [
    "#print dictionary keys and values\n",
    "car_freq.items()"
   ]
  },
  {
   "cell_type": "code",
   "execution_count": 13,
   "id": "3581c660",
   "metadata": {},
   "outputs": [],
   "source": [
    "#print value of dictionary key\n",
    "car_freq['golf']= [2, 3, 4, 7, 10]"
   ]
  },
  {
   "cell_type": "code",
   "execution_count": 14,
   "id": "19f4309c",
   "metadata": {},
   "outputs": [
    {
     "data": {
      "text/plain": [
       "dict_keys(['nissan', 'toyota', 'mercerdes', 'bmw', 'ford', 'golf'])"
      ]
     },
     "execution_count": 14,
     "metadata": {},
     "output_type": "execute_result"
    }
   ],
   "source": [
    "car_freq.keys()"
   ]
  },
  {
   "cell_type": "code",
   "execution_count": 15,
   "id": "727f3f91",
   "metadata": {},
   "outputs": [],
   "source": [
    "#edit dictionary values\n",
    "car_freq['nissan']= [2, 2, 2, 2, 2]"
   ]
  },
  {
   "cell_type": "code",
   "execution_count": 16,
   "id": "45607e9b",
   "metadata": {},
   "outputs": [
    {
     "data": {
      "text/plain": [
       "dict_items([('nissan', [2, 2, 2, 2, 2]), ('toyota', [3, 10, 15, 7, 9]), ('mercerdes', [5, 3, 7, 8, 1]), ('bmw', [2, 3, 5, 6, 11]), ('ford', [10, 3, 9, 8, 12]), ('golf', [2, 3, 4, 7, 10])])"
      ]
     },
     "execution_count": 16,
     "metadata": {},
     "output_type": "execute_result"
    }
   ],
   "source": [
    "car_freq.items()"
   ]
  },
  {
   "cell_type": "code",
   "execution_count": 17,
   "id": "1bd4b392",
   "metadata": {},
   "outputs": [
    {
     "data": {
      "text/plain": [
       "[3, 32, 2, 3, 2]"
      ]
     },
     "execution_count": 17,
     "metadata": {},
     "output_type": "execute_result"
    }
   ],
   "source": [
    "#edit values within dictionary keys\n",
    "car_freq.update({'nissan': [3, 32, 2, 3, 2]})\n",
    "car_freq['nissan']"
   ]
  },
  {
   "cell_type": "code",
   "execution_count": 18,
   "id": "269f98e3",
   "metadata": {},
   "outputs": [
    {
     "data": {
      "text/plain": [
       "dict_keys(['toyota', 'mercerdes', 'bmw', 'ford', 'golf'])"
      ]
     },
     "execution_count": 18,
     "metadata": {},
     "output_type": "execute_result"
    }
   ],
   "source": [
    "#delete dictionary key pop method\n",
    "car_freq.pop('nissan')\n",
    "car_freq.keys()"
   ]
  },
  {
   "cell_type": "code",
   "execution_count": 19,
   "id": "87fe0cd4",
   "metadata": {},
   "outputs": [
    {
     "data": {
      "text/plain": [
       "dict_keys(['toyota', 'mercerdes', 'bmw', 'ford'])"
      ]
     },
     "execution_count": 19,
     "metadata": {},
     "output_type": "execute_result"
    }
   ],
   "source": [
    "#delete last dictionary key\n",
    "car_freq.popitem()\n",
    "car_freq.keys()"
   ]
  },
  {
   "cell_type": "code",
   "execution_count": 20,
   "id": "a40a07a6",
   "metadata": {},
   "outputs": [
    {
     "data": {
      "text/plain": [
       "dict_keys(['toyota', 'mercerdes', 'bmw'])"
      ]
     },
     "execution_count": 20,
     "metadata": {},
     "output_type": "execute_result"
    }
   ],
   "source": [
    "#delete last dictionary key\n",
    "car_freq.popitem()\n",
    "car_freq.keys()"
   ]
  },
  {
   "cell_type": "markdown",
   "id": "7a5ad685",
   "metadata": {},
   "source": []
  },
  {
   "cell_type": "code",
   "execution_count": null,
   "id": "71411912",
   "metadata": {},
   "outputs": [],
   "source": []
  },
  {
   "cell_type": "code",
   "execution_count": null,
   "id": "6e0b997a",
   "metadata": {},
   "outputs": [],
   "source": []
  },
  {
   "cell_type": "code",
   "execution_count": null,
   "id": "da4503a5",
   "metadata": {},
   "outputs": [],
   "source": []
  },
  {
   "cell_type": "code",
   "execution_count": 35,
   "id": "199e3b46",
   "metadata": {},
   "outputs": [
    {
     "data": {
      "text/plain": [
       "{'nissan': [1, 3, 4, 8, 10],\n",
       " 'toyota': [3, 10, 15, 7, 9],\n",
       " 'mercerdes': [5, 3, 7, 8, 1],\n",
       " 'bmw': [2, 3, 5, 6, 11],\n",
       " 'ford': [10, 3, 9, 8, 12]}"
      ]
     },
     "execution_count": 35,
     "metadata": {},
     "output_type": "execute_result"
    }
   ],
   "source": [
    "car_freq = {'nissan': [1, 3, 4, 8, 10],\n",
    "             'toyota': [3, 10, 15, 7, 9],\n",
    "             'mercerdes': [5, 3, 7, 8, 1],\n",
    "             'bmw': [2, 3, 5, 6, 11],\n",
    "             'ford': [10, 3, 9, 8, 12]}\n",
    "car_freq\n"
   ]
  },
  {
   "cell_type": "code",
   "execution_count": 37,
   "id": "0390797e",
   "metadata": {},
   "outputs": [
    {
     "name": "stdout",
     "output_type": "stream",
     "text": [
      "nissan [1, 3, 4, 8, 10]\n",
      "toyota [3, 10, 15, 7, 9]\n",
      "mercerdes [5, 3, 7, 8, 1]\n",
      "bmw [2, 3, 5, 6, 11]\n",
      "ford [10, 3, 9, 8, 12]\n"
     ]
    }
   ],
   "source": [
    "for keys,values in car_freq.items():\n",
    "    print(keys,values)"
   ]
  },
  {
   "cell_type": "code",
   "execution_count": null,
   "id": "28da24c2",
   "metadata": {},
   "outputs": [],
   "source": []
  },
  {
   "cell_type": "code",
   "execution_count": 38,
   "id": "38f53b78",
   "metadata": {},
   "outputs": [],
   "source": [
    "students={\n",
    "    \"Tony\" : {\n",
    "    \"sex\": \"Male\",\n",
    "    \"year\" : 2004,\n",
    "    \"height\" : 5.9\n",
    "    },\n",
    "    \"Wendy\" : {\n",
    "    \"sex\": \"Female\",\n",
    "    \"year\" : 2002,\n",
    "    \"height\" : 5.2\n",
    "  },\n",
    "    \"Alex\" : {\n",
    "    \"sex\": \"Male\",\n",
    "    \"year\" : 2006,\n",
    "    \"height\" : 6.1\n",
    "  }   \n",
    "    \n",
    "}"
   ]
  },
  {
   "cell_type": "code",
   "execution_count": 39,
   "id": "ca1eedc9",
   "metadata": {},
   "outputs": [
    {
     "data": {
      "text/plain": [
       "dict_keys(['Tony', 'Wendy', 'Alex'])"
      ]
     },
     "execution_count": 39,
     "metadata": {},
     "output_type": "execute_result"
    }
   ],
   "source": [
    "students.keys()"
   ]
  },
  {
   "cell_type": "code",
   "execution_count": 40,
   "id": "cb248e83",
   "metadata": {},
   "outputs": [
    {
     "data": {
      "text/plain": [
       "dict_items([('Tony', {'sex': 'Male', 'year': 2004, 'height': 5.9}), ('Wendy', {'sex': 'Female', 'year': 2002, 'height': 5.2}), ('Alex', {'sex': 'Male', 'year': 2006, 'height': 6.1})])"
      ]
     },
     "execution_count": 40,
     "metadata": {},
     "output_type": "execute_result"
    }
   ],
   "source": [
    "students.items()"
   ]
  },
  {
   "cell_type": "code",
   "execution_count": null,
   "id": "4e2067d7",
   "metadata": {},
   "outputs": [],
   "source": []
  },
  {
   "cell_type": "code",
   "execution_count": 41,
   "id": "f2800643",
   "metadata": {},
   "outputs": [
    {
     "data": {
      "text/plain": [
       "{'Tony': {'sex': 'Male', 'year': 2004, 'height': 5.9},\n",
       " 'Wendy': {'sex': 'Female', 'year': 2002, 'height': 5.2},\n",
       " 'Alex': {'sex': 'Male', 'year': 2006, 'height': 6.1}}"
      ]
     },
     "execution_count": 41,
     "metadata": {},
     "output_type": "execute_result"
    }
   ],
   "source": [
    "stud= students.copy()\n",
    "stud"
   ]
  },
  {
   "cell_type": "code",
   "execution_count": 42,
   "id": "82c8ec73",
   "metadata": {},
   "outputs": [
    {
     "data": {
      "text/plain": [
       "{'Tony': {'sex': 'Male', 'year': 2004, 'height': 5.9},\n",
       " 'Wendy': {'sex': 'Female', 'year': 2002, 'height': 5.2},\n",
       " 'Alex': {'sex': 'Male', 'year': 2006, 'height': 6.1}}"
      ]
     },
     "execution_count": 42,
     "metadata": {},
     "output_type": "execute_result"
    }
   ],
   "source": [
    "stud_var= dict(students)\n",
    "stud_var"
   ]
  },
  {
   "cell_type": "code",
   "execution_count": null,
   "id": "656e1b63",
   "metadata": {},
   "outputs": [],
   "source": []
  },
  {
   "cell_type": "code",
   "execution_count": null,
   "id": "8c8c2c33",
   "metadata": {},
   "outputs": [],
   "source": []
  },
  {
   "cell_type": "code",
   "execution_count": null,
   "id": "a3045c21",
   "metadata": {},
   "outputs": [],
   "source": []
  },
  {
   "cell_type": "code",
   "execution_count": null,
   "id": "64f4f633",
   "metadata": {},
   "outputs": [],
   "source": []
  },
  {
   "cell_type": "code",
   "execution_count": null,
   "id": "f91d3ffe",
   "metadata": {},
   "outputs": [],
   "source": []
  },
  {
   "cell_type": "code",
   "execution_count": null,
   "id": "21e76682",
   "metadata": {},
   "outputs": [],
   "source": []
  },
  {
   "cell_type": "code",
   "execution_count": null,
   "id": "009c3c32",
   "metadata": {},
   "outputs": [],
   "source": []
  },
  {
   "cell_type": "code",
   "execution_count": null,
   "id": "ba11387d",
   "metadata": {},
   "outputs": [],
   "source": []
  },
  {
   "cell_type": "code",
   "execution_count": null,
   "id": "510f9958",
   "metadata": {},
   "outputs": [],
   "source": []
  },
  {
   "cell_type": "code",
   "execution_count": null,
   "id": "4447adb8",
   "metadata": {},
   "outputs": [],
   "source": []
  },
  {
   "cell_type": "code",
   "execution_count": null,
   "id": "57478d6a",
   "metadata": {},
   "outputs": [],
   "source": []
  }
 ],
 "metadata": {
  "kernelspec": {
   "display_name": "Python 3 (ipykernel)",
   "language": "python",
   "name": "python3"
  },
  "language_info": {
   "codemirror_mode": {
    "name": "ipython",
    "version": 3
   },
   "file_extension": ".py",
   "mimetype": "text/x-python",
   "name": "python",
   "nbconvert_exporter": "python",
   "pygments_lexer": "ipython3",
   "version": "3.9.7"
  }
 },
 "nbformat": 4,
 "nbformat_minor": 5
}
