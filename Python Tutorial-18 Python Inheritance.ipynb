{
 "cells": [
  {
   "cell_type": "code",
   "execution_count": 16,
   "id": "2ab7ed3d",
   "metadata": {},
   "outputs": [],
   "source": [
    "class employee:\n",
    "    #properties\n",
    "    #methods\n",
    "    pass"
   ]
  },
  {
   "cell_type": "code",
   "execution_count": 19,
   "id": "0c17dac1",
   "metadata": {},
   "outputs": [
    {
     "name": "stdout",
     "output_type": "stream",
     "text": [
      "<__main__.employee object at 0x00000173B0784CA0>\n",
      "<__main__.employee object at 0x00000173B0784E50>\n"
     ]
    }
   ],
   "source": [
    "emp1= employee()\n",
    "emp2= employee()\n",
    "\n",
    "print(emp1)\n",
    "print(emp2)\n"
   ]
  },
  {
   "cell_type": "code",
   "execution_count": 20,
   "id": "59a7a684",
   "metadata": {},
   "outputs": [
    {
     "data": {
      "text/plain": [
       "'betty'"
      ]
     },
     "execution_count": 20,
     "metadata": {},
     "output_type": "execute_result"
    }
   ],
   "source": [
    "emp1.fname= 'betty'\n",
    "emp1.fname"
   ]
  },
  {
   "cell_type": "code",
   "execution_count": 72,
   "id": "f40ce4da",
   "metadata": {},
   "outputs": [],
   "source": [
    "class employee:\n",
    "    def __init__(self,fname,lname,email,food):\n",
    "        self.firstname=fname\n",
    "        self.lastname=lname\n",
    "        self.emails=email\n",
    "        self.diet=food\n",
    "        \n",
    "    def diett(self):\n",
    "        print(self.firstname,'loves',self.diet)\n",
    "        \n",
    "    def email(self):\n",
    "        print(self.lastname,'has the user account of',self.emails)  \n",
    "    "
   ]
  },
  {
   "cell_type": "code",
   "execution_count": 73,
   "id": "d4c74f90",
   "metadata": {},
   "outputs": [],
   "source": [
    "emp1=employee('becky','sanders','beckysanders@axy.com','salad')\n",
    "emp2=employee('john','stone','johnstone@axy.com','lasagna')"
   ]
  },
  {
   "cell_type": "code",
   "execution_count": 74,
   "id": "0808105e",
   "metadata": {},
   "outputs": [
    {
     "name": "stdout",
     "output_type": "stream",
     "text": [
      "becky loves salad\n"
     ]
    }
   ],
   "source": [
    "emp1.diett()"
   ]
  },
  {
   "cell_type": "code",
   "execution_count": 75,
   "id": "c5746185",
   "metadata": {},
   "outputs": [
    {
     "name": "stdout",
     "output_type": "stream",
     "text": [
      "sanders has the user account of beckysanders@axy.com\n"
     ]
    }
   ],
   "source": [
    "emp1.email()"
   ]
  },
  {
   "cell_type": "code",
   "execution_count": 76,
   "id": "5a94b011",
   "metadata": {},
   "outputs": [
    {
     "name": "stdout",
     "output_type": "stream",
     "text": [
      "john loves lasagna\n"
     ]
    }
   ],
   "source": [
    "emp2.diett()"
   ]
  },
  {
   "cell_type": "code",
   "execution_count": 77,
   "id": "3eed497a",
   "metadata": {},
   "outputs": [
    {
     "name": "stdout",
     "output_type": "stream",
     "text": [
      "stone has the user account of johnstone@axy.com\n"
     ]
    }
   ],
   "source": [
    "emp2.email()"
   ]
  },
  {
   "cell_type": "code",
   "execution_count": null,
   "id": "f90b2660",
   "metadata": {},
   "outputs": [],
   "source": []
  },
  {
   "cell_type": "code",
   "execution_count": null,
   "id": "18cf34e1",
   "metadata": {},
   "outputs": [],
   "source": [
    "#same class as previous example\n",
    "\n",
    "class employee:\n",
    "    def __init__(self,fname,lname,email,food):\n",
    "        self.firstname=fname\n",
    "        self.lastname=lname\n",
    "        self.emails=email\n",
    "        self.diet=food\n",
    "        \n",
    "    def diett(self):\n",
    "        print(self.firstname,'loves',self.diet)\n",
    "        \n",
    "    def email(self):\n",
    "        print(self.lastname,'has the user account of',self.emails)  "
   ]
  },
  {
   "cell_type": "code",
   "execution_count": 15,
   "id": "52279352",
   "metadata": {},
   "outputs": [
    {
     "name": "stdout",
     "output_type": "stream",
     "text": [
      "frank loves pasta\n"
     ]
    }
   ],
   "source": [
    "class exemployee(employee):\n",
    "    pass\n",
    "\n",
    "\n",
    "emp5=exemployee('frank','greg','fg@axy.com','pasta')\n",
    "emp5.diett()\n"
   ]
  },
  {
   "cell_type": "code",
   "execution_count": 16,
   "id": "f1b1abeb",
   "metadata": {
    "collapsed": true
   },
   "outputs": [
    {
     "ename": "IndentationError",
     "evalue": "expected an indented block (1/ipykernel_13588/3752144732.py, line 4)",
     "output_type": "error",
     "traceback": [
      "\u001b[1;36m  File \u001b[1;32m\"C:\\Users\\ogem8001\\AppData\\Local\\Temp\\1/ipykernel_13588/3752144732.py\"\u001b[1;36m, line \u001b[1;32m4\u001b[0m\n\u001b[1;33m    emp5=exemployee('frank','greg','fg@axy.com','pasta')\u001b[0m\n\u001b[1;37m                                                        ^\u001b[0m\n\u001b[1;31mIndentationError\u001b[0m\u001b[1;31m:\u001b[0m expected an indented block\n"
     ]
    }
   ],
   "source": [
    "class exemployee(employee):\n",
    "    def __init__(self,fname,lname,email,food):\n",
    "        employee.__init__(self,fname,lname,email,food)\n",
    "\n",
    " "
   ]
  },
  {
   "cell_type": "code",
   "execution_count": 20,
   "id": "01578b77",
   "metadata": {},
   "outputs": [
    {
     "name": "stdout",
     "output_type": "stream",
     "text": [
      "salsa\n",
      "frank loves pasta\n"
     ]
    }
   ],
   "source": [
    "class exemployee(employee):\n",
    "    def __init__(self,fname,lname,email,food,dancing):\n",
    "        super().__init__(fname,lname,email,food)\n",
    "        self.dance=dancing\n",
    "        \n",
    "emp6=exemployee('frank','greg','fg@axy.com','pasta','salsa')\n",
    "print(emp6.dance)\n",
    "emp6.diett()"
   ]
  },
  {
   "cell_type": "code",
   "execution_count": null,
   "id": "60710955",
   "metadata": {},
   "outputs": [],
   "source": []
  },
  {
   "cell_type": "code",
   "execution_count": null,
   "id": "ffe9203f",
   "metadata": {},
   "outputs": [],
   "source": []
  },
  {
   "cell_type": "code",
   "execution_count": null,
   "id": "05a63020",
   "metadata": {},
   "outputs": [],
   "source": []
  },
  {
   "cell_type": "code",
   "execution_count": null,
   "id": "cd60601a",
   "metadata": {},
   "outputs": [],
   "source": []
  }
 ],
 "metadata": {
  "kernelspec": {
   "display_name": "Python 3 (ipykernel)",
   "language": "python",
   "name": "python3"
  },
  "language_info": {
   "codemirror_mode": {
    "name": "ipython",
    "version": 3
   },
   "file_extension": ".py",
   "mimetype": "text/x-python",
   "name": "python",
   "nbconvert_exporter": "python",
   "pygments_lexer": "ipython3",
   "version": "3.9.7"
  }
 },
 "nbformat": 4,
 "nbformat_minor": 5
}
