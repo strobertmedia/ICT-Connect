{
 "cells": [
  {
   "cell_type": "code",
   "execution_count": 23,
   "id": "12e5ff37",
   "metadata": {},
   "outputs": [],
   "source": [
    "#Text str\n",
    "\n",
    "\n",
    "x=\"Hello World, It is sunny today1\""
   ]
  },
  {
   "cell_type": "code",
   "execution_count": 24,
   "id": "ca31da8b",
   "metadata": {},
   "outputs": [
    {
     "data": {
      "text/plain": [
       "str"
      ]
     },
     "execution_count": 24,
     "metadata": {},
     "output_type": "execute_result"
    }
   ],
   "source": [
    "type(x)"
   ]
  },
  {
   "cell_type": "code",
   "execution_count": null,
   "id": "29337e27",
   "metadata": {},
   "outputs": [],
   "source": [
    "#Numeric int, float, complex"
   ]
  },
  {
   "cell_type": "code",
   "execution_count": 25,
   "id": "f8c1b250",
   "metadata": {},
   "outputs": [],
   "source": [
    "#integer\n",
    "x= 10"
   ]
  },
  {
   "cell_type": "code",
   "execution_count": 26,
   "id": "7262a552",
   "metadata": {},
   "outputs": [
    {
     "data": {
      "text/plain": [
       "int"
      ]
     },
     "execution_count": 26,
     "metadata": {},
     "output_type": "execute_result"
    }
   ],
   "source": [
    "type(x)"
   ]
  },
  {
   "cell_type": "code",
   "execution_count": 27,
   "id": "06a09d59",
   "metadata": {},
   "outputs": [],
   "source": [
    "#float\n",
    "x= 10.0"
   ]
  },
  {
   "cell_type": "code",
   "execution_count": 28,
   "id": "1ce2c37e",
   "metadata": {},
   "outputs": [
    {
     "data": {
      "text/plain": [
       "float"
      ]
     },
     "execution_count": 28,
     "metadata": {},
     "output_type": "execute_result"
    }
   ],
   "source": [
    "type(x)"
   ]
  },
  {
   "cell_type": "code",
   "execution_count": 32,
   "id": "9f30ce9c",
   "metadata": {},
   "outputs": [],
   "source": [
    "#complex\n",
    "x = 1j"
   ]
  },
  {
   "cell_type": "code",
   "execution_count": 33,
   "id": "f722c5ee",
   "metadata": {},
   "outputs": [
    {
     "data": {
      "text/plain": [
       "complex"
      ]
     },
     "execution_count": 33,
     "metadata": {},
     "output_type": "execute_result"
    }
   ],
   "source": [
    "type(x)"
   ]
  },
  {
   "cell_type": "code",
   "execution_count": null,
   "id": "a6d20eb5",
   "metadata": {},
   "outputs": [],
   "source": [
    "#Sequence list, tuple, range"
   ]
  },
  {
   "cell_type": "code",
   "execution_count": 34,
   "id": "e17457e9",
   "metadata": {},
   "outputs": [],
   "source": [
    "x=['Ball','Post','Jersey']"
   ]
  },
  {
   "cell_type": "code",
   "execution_count": 35,
   "id": "f022255c",
   "metadata": {},
   "outputs": [
    {
     "data": {
      "text/plain": [
       "list"
      ]
     },
     "execution_count": 35,
     "metadata": {},
     "output_type": "execute_result"
    }
   ],
   "source": [
    "type(x)"
   ]
  },
  {
   "cell_type": "code",
   "execution_count": 36,
   "id": "797fc88b",
   "metadata": {},
   "outputs": [
    {
     "data": {
      "text/plain": [
       "['Ball', 'Post', 'Jersey']"
      ]
     },
     "execution_count": 36,
     "metadata": {},
     "output_type": "execute_result"
    }
   ],
   "source": [
    "x"
   ]
  },
  {
   "cell_type": "code",
   "execution_count": 37,
   "id": "4e7bfbf0",
   "metadata": {},
   "outputs": [],
   "source": [
    "x=('Ball','Post','Jersey')"
   ]
  },
  {
   "cell_type": "code",
   "execution_count": 38,
   "id": "23294ac0",
   "metadata": {},
   "outputs": [
    {
     "data": {
      "text/plain": [
       "tuple"
      ]
     },
     "execution_count": 38,
     "metadata": {},
     "output_type": "execute_result"
    }
   ],
   "source": [
    "type(x)"
   ]
  },
  {
   "cell_type": "code",
   "execution_count": 39,
   "id": "ac49f172",
   "metadata": {},
   "outputs": [
    {
     "data": {
      "text/plain": [
       "('Ball', 'Post', 'Jersey')"
      ]
     },
     "execution_count": 39,
     "metadata": {},
     "output_type": "execute_result"
    }
   ],
   "source": [
    "x"
   ]
  },
  {
   "cell_type": "code",
   "execution_count": 40,
   "id": "3df18235",
   "metadata": {},
   "outputs": [],
   "source": [
    "x= range(3)"
   ]
  },
  {
   "cell_type": "code",
   "execution_count": 41,
   "id": "97779ffc",
   "metadata": {},
   "outputs": [
    {
     "data": {
      "text/plain": [
       "range(0, 3)"
      ]
     },
     "execution_count": 41,
     "metadata": {},
     "output_type": "execute_result"
    }
   ],
   "source": [
    "x"
   ]
  },
  {
   "cell_type": "code",
   "execution_count": 42,
   "id": "d0f36585",
   "metadata": {},
   "outputs": [
    {
     "data": {
      "text/plain": [
       "range"
      ]
     },
     "execution_count": 42,
     "metadata": {},
     "output_type": "execute_result"
    }
   ],
   "source": [
    "type(x)"
   ]
  },
  {
   "cell_type": "code",
   "execution_count": 43,
   "id": "4c6bfe7f",
   "metadata": {},
   "outputs": [],
   "source": [
    "#dictionary\n",
    "\n",
    "x = {\"name\" : \"Emmanuel\",\n",
    "     \"shoesize\" : 45,\n",
    "    \"shirtsize\": 'XL'}"
   ]
  },
  {
   "cell_type": "code",
   "execution_count": 44,
   "id": "a0dc4821",
   "metadata": {},
   "outputs": [
    {
     "data": {
      "text/plain": [
       "{'name': 'Emmanuel', 'shoesize': 45, 'shirtsize': 'XL'}"
      ]
     },
     "execution_count": 44,
     "metadata": {},
     "output_type": "execute_result"
    }
   ],
   "source": [
    "x"
   ]
  },
  {
   "cell_type": "code",
   "execution_count": 48,
   "id": "82049abc",
   "metadata": {},
   "outputs": [
    {
     "data": {
      "text/plain": [
       "dict_keys(['name', 'shoesize', 'shirtsize'])"
      ]
     },
     "execution_count": 48,
     "metadata": {},
     "output_type": "execute_result"
    }
   ],
   "source": [
    "x.keys()"
   ]
  },
  {
   "cell_type": "code",
   "execution_count": 50,
   "id": "c918dd45",
   "metadata": {},
   "outputs": [
    {
     "data": {
      "text/plain": [
       "'Emmanuel'"
      ]
     },
     "execution_count": 50,
     "metadata": {},
     "output_type": "execute_result"
    }
   ],
   "source": [
    "x['name']"
   ]
  },
  {
   "cell_type": "code",
   "execution_count": 51,
   "id": "9c88dbf4",
   "metadata": {},
   "outputs": [
    {
     "data": {
      "text/plain": [
       "45"
      ]
     },
     "execution_count": 51,
     "metadata": {},
     "output_type": "execute_result"
    }
   ],
   "source": [
    "x['shoesize']"
   ]
  },
  {
   "cell_type": "code",
   "execution_count": 55,
   "id": "80a76522",
   "metadata": {},
   "outputs": [],
   "source": [
    "#Set set, frozenset\n",
    "\n",
    "#set\n",
    "#x = {\"apple\", \"banana\", \"cherry\"}\n",
    "\n",
    "\n",
    "#frozenset\n",
    "x = frozenset({\"apple\", \"banana\", \"cherry\"})"
   ]
  },
  {
   "cell_type": "code",
   "execution_count": 56,
   "id": "f35841a6",
   "metadata": {},
   "outputs": [
    {
     "data": {
      "text/plain": [
       "frozenset"
      ]
     },
     "execution_count": 56,
     "metadata": {},
     "output_type": "execute_result"
    }
   ],
   "source": [
    "type(x)"
   ]
  },
  {
   "cell_type": "code",
   "execution_count": 60,
   "id": "1877226a",
   "metadata": {},
   "outputs": [],
   "source": [
    "#byte\n",
    "x= b'Hello'"
   ]
  },
  {
   "cell_type": "code",
   "execution_count": 61,
   "id": "47e31496",
   "metadata": {},
   "outputs": [
    {
     "data": {
      "text/plain": [
       "bytes"
      ]
     },
     "execution_count": 61,
     "metadata": {},
     "output_type": "execute_result"
    }
   ],
   "source": [
    "type(x)"
   ]
  },
  {
   "cell_type": "code",
   "execution_count": 66,
   "id": "94568003",
   "metadata": {},
   "outputs": [],
   "source": [
    "#bytearray\n",
    "x= bytearray(5)"
   ]
  },
  {
   "cell_type": "code",
   "execution_count": 67,
   "id": "15640ee8",
   "metadata": {},
   "outputs": [
    {
     "data": {
      "text/plain": [
       "bytearray(b'\\x00\\x00\\x00\\x00\\x00')"
      ]
     },
     "execution_count": 67,
     "metadata": {},
     "output_type": "execute_result"
    }
   ],
   "source": [
    "x"
   ]
  },
  {
   "cell_type": "code",
   "execution_count": 69,
   "id": "e5144813",
   "metadata": {},
   "outputs": [
    {
     "data": {
      "text/plain": [
       "<memory at 0x000002079212E700>"
      ]
     },
     "execution_count": 69,
     "metadata": {},
     "output_type": "execute_result"
    }
   ],
   "source": [
    "memoryview(bytes(5))"
   ]
  },
  {
   "cell_type": "code",
   "execution_count": null,
   "id": "5ea43309",
   "metadata": {},
   "outputs": [],
   "source": []
  }
 ],
 "metadata": {
  "kernelspec": {
   "display_name": "Python 3 (ipykernel)",
   "language": "python",
   "name": "python3"
  },
  "language_info": {
   "codemirror_mode": {
    "name": "ipython",
    "version": 3
   },
   "file_extension": ".py",
   "mimetype": "text/x-python",
   "name": "python",
   "nbconvert_exporter": "python",
   "pygments_lexer": "ipython3",
   "version": "3.9.7"
  }
 },
 "nbformat": 4,
 "nbformat_minor": 5
}
