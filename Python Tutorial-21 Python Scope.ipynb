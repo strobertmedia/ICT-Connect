{
 "cells": [
  {
   "cell_type": "code",
   "execution_count": 14,
   "id": "c8fad784",
   "metadata": {},
   "outputs": [
    {
     "name": "stdout",
     "output_type": "stream",
     "text": [
      "150\n"
     ]
    }
   ],
   "source": [
    "#local scope\n",
    "def myfunc():\n",
    "    x= 150\n",
    "    print(x)\n",
    "    \n",
    "myfunc()"
   ]
  },
  {
   "cell_type": "code",
   "execution_count": 27,
   "id": "a9f8d39c",
   "metadata": {},
   "outputs": [
    {
     "name": "stdout",
     "output_type": "stream",
     "text": [
      "150\n"
     ]
    }
   ],
   "source": [
    "#local scope from nested function\n",
    "def myfunc():\n",
    "    b= 150\n",
    "    def myinfunc():\n",
    "        print(b)\n",
    "    myinfunc()\n",
    "    \n",
    "myfunc()"
   ]
  },
  {
   "cell_type": "code",
   "execution_count": 19,
   "id": "c11fd0b3",
   "metadata": {},
   "outputs": [
    {
     "name": "stdout",
     "output_type": "stream",
     "text": [
      "150\n"
     ]
    },
    {
     "ename": "NameError",
     "evalue": "name 'b' is not defined",
     "output_type": "error",
     "traceback": [
      "\u001b[1;31m---------------------------------------------------------------------------\u001b[0m",
      "\u001b[1;31mNameError\u001b[0m                                 Traceback (most recent call last)",
      "\u001b[1;32m~\\AppData\\Local\\Temp\\1/ipykernel_20008/1790353429.py\u001b[0m in \u001b[0;36m<module>\u001b[1;34m\u001b[0m\n\u001b[0;32m      7\u001b[0m \u001b[1;33m\u001b[0m\u001b[0m\n\u001b[0;32m      8\u001b[0m \u001b[0mmyfunc\u001b[0m\u001b[1;33m(\u001b[0m\u001b[1;33m)\u001b[0m\u001b[1;33m\u001b[0m\u001b[1;33m\u001b[0m\u001b[0m\n\u001b[1;32m----> 9\u001b[1;33m \u001b[0mb\u001b[0m\u001b[1;33m\u001b[0m\u001b[1;33m\u001b[0m\u001b[0m\n\u001b[0m",
      "\u001b[1;31mNameError\u001b[0m: name 'b' is not defined"
     ]
    }
   ],
   "source": [
    "#local scope from nested function..notice b cannot be accessed externally\n",
    "def myfunc():\n",
    "    b= 150\n",
    "    def myinfunc():\n",
    "        print(b)\n",
    "    myinfunc()\n",
    "    \n",
    "myfunc()\n",
    "b"
   ]
  },
  {
   "cell_type": "code",
   "execution_count": 20,
   "id": "f0c788f8",
   "metadata": {},
   "outputs": [
    {
     "name": "stdout",
     "output_type": "stream",
     "text": [
      "150\n"
     ]
    }
   ],
   "source": [
    "#global scope\n",
    "c= 150\n",
    "\n",
    "def myfuncc():\n",
    "    print(c)\n",
    "\n",
    "myfuncc()\n",
    "    "
   ]
  },
  {
   "cell_type": "code",
   "execution_count": 21,
   "id": "25c0fbb6",
   "metadata": {},
   "outputs": [
    {
     "name": "stdout",
     "output_type": "stream",
     "text": [
      "200\n"
     ]
    },
    {
     "data": {
      "text/plain": [
       "200"
      ]
     },
     "execution_count": 21,
     "metadata": {},
     "output_type": "execute_result"
    }
   ],
   "source": [
    "#global scope also changing the variable value\n",
    "c= 150\n",
    "\n",
    "def myfuncc():\n",
    "    global c\n",
    "    c= 200\n",
    "    print(c)\n",
    "\n",
    "myfuncc()\n",
    "c\n",
    "    "
   ]
  },
  {
   "cell_type": "code",
   "execution_count": 22,
   "id": "ae31c54a",
   "metadata": {},
   "outputs": [
    {
     "name": "stdout",
     "output_type": "stream",
     "text": [
      "200\n"
     ]
    },
    {
     "data": {
      "text/plain": [
       "150"
      ]
     },
     "execution_count": 22,
     "metadata": {},
     "output_type": "execute_result"
    }
   ],
   "source": [
    "#global scope also showing local scope\n",
    "d= 150\n",
    "\n",
    "def myfuncc():\n",
    "    d= 200      \n",
    "    print(d)\n",
    "myfuncc()\n",
    "\n",
    "d"
   ]
  },
  {
   "cell_type": "code",
   "execution_count": 23,
   "id": "21e793c2",
   "metadata": {},
   "outputs": [
    {
     "data": {
      "text/plain": [
       "{'__name__': '__main__',\n",
       " '__doc__': 'Automatically created module for IPython interactive environment',\n",
       " '__package__': None,\n",
       " '__loader__': None,\n",
       " '__spec__': None,\n",
       " '__builtin__': <module 'builtins' (built-in)>,\n",
       " '__builtins__': <module 'builtins' (built-in)>,\n",
       " '_ih': ['',\n",
       "  'def myfunc():\\n    x= 150\\n    print(x)',\n",
       "  'def myfunc():\\n    x= 150\\n    print(x)\\n    \\nmyfunc()',\n",
       "  'x',\n",
       "  'x= 200\\n\\ndef myfunc():\\n    #x= 150\\n    print(x)\\n    \\nmyfunc()',\n",
       "  'x= 200\\n\\ndef myfunc():\\n    x= 150\\n    print(x)\\n    \\nmyfunc()\\nx',\n",
       "  'def myfunc():\\n    x= 150\\n    def myinfun():\\n        print(x)\\n        myinfun()\\n    \\nmyfunc()',\n",
       "  'def myfunc():\\n    x= 150\\n    def myinfun():\\n        print(x)\\n    myinfun()\\n    \\nmyfunc()',\n",
       "  'globals().keys()',\n",
       "  'locals().keys()',\n",
       "  'locals()',\n",
       "  'def myfunc():\\n    x= 150\\n    print(x)\\n    \\n    \\nmyfunc()',\n",
       "  'def myfunc():\\n    x= 150\\n    myinfunc():\\n        print(x)\\n    myinfunc()\\n    \\n    \\nmyfunc()',\n",
       "  'def myfunc():\\n    x= 150\\n    myinfunc():\\n        print(x)\\n    myinfunc()\\n    \\n    \\nmyfunc()',\n",
       "  '#local scope\\ndef myfunc():\\n    x= 150\\n    print(x)\\n    \\nmyfunc()',\n",
       "  '#local scope\\ndef myfunc():\\n    x= 150\\n    def myinfunc():\\n        print(x)\\n    myinfunc()\\n    \\nmyfunc()',\n",
       "  '#local scope\\ndef myfunc():\\n    x= 150\\n    def myinfunc():\\n        print(x)\\n    myinfunc()\\n    \\nmyfunc()\\n\\nx',\n",
       "  '#local scope\\ndef myfunc():\\n    x= 150\\n    def myinfunc():\\n        print(x)\\n    myinfunc()\\n    \\nmyfunc()',\n",
       "  '#local scope\\ndef myfunc():\\n    b= 150\\n    def myinfunc():\\n        print(b)\\n    myinfunc()\\n    \\nmyfunc()',\n",
       "  '#local scope\\ndef myfunc():\\n    b= 150\\n    def myinfunc():\\n        print(b)\\n    myinfunc()\\n    \\nmyfunc()\\nb',\n",
       "  '#global scope\\nc= 150\\n\\ndef myfuncc():\\n    print(c)\\n\\nmyfuncc()\\n    ',\n",
       "  '#global scope\\nc= 150\\n\\ndef myfuncc():\\n    global c\\n    c= 200\\n    print(c)\\n\\nmyfuncc()\\nc\\n    ',\n",
       "  '#global scope\\nd= 150\\n\\ndef myfuncc():\\n    d= 200      \\n    print(d)\\nmyfuncc()\\n\\nd',\n",
       "  'globals()'],\n",
       " '_oh': {5: 200,\n",
       "  8: dict_keys(['__name__', '__doc__', '__package__', '__loader__', '__spec__', '__builtin__', '__builtins__', '_ih', '_oh', '_dh', 'In', 'Out', 'get_ipython', 'exit', 'quit', '_', '__', '___', '_i', '_ii', '_iii', '_i1', 'myfunc', '_i2', '_i3', '_i4', 'x', '_i5', '_5', '_i6', '_i7', '_i8', '_8', '_i9', '_9', '_i10', '_10', '_i11', '_i12', '_i13', '_i14', '_i15', '_i16', '_16', '_i17', '_i18', '_i19', '_i20', 'c', 'myfuncc', '_i21', '_21', '_i22', 'd', '_22', '_i23']),\n",
       "  9: dict_keys(['__name__', '__doc__', '__package__', '__loader__', '__spec__', '__builtin__', '__builtins__', '_ih', '_oh', '_dh', 'In', 'Out', 'get_ipython', 'exit', 'quit', '_', '__', '___', '_i', '_ii', '_iii', '_i1', 'myfunc', '_i2', '_i3', '_i4', 'x', '_i5', '_5', '_i6', '_i7', '_i8', '_8', '_i9', '_9', '_i10', '_10', '_i11', '_i12', '_i13', '_i14', '_i15', '_i16', '_16', '_i17', '_i18', '_i19', '_i20', 'c', 'myfuncc', '_i21', '_21', '_i22', 'd', '_22', '_i23']),\n",
       "  10: {...},\n",
       "  16: 200,\n",
       "  21: 200,\n",
       "  22: 150},\n",
       " '_dh': ['C:\\\\Users\\\\ogem8001\\\\ICT Connect Tutorials\\\\Python Tutorials'],\n",
       " 'In': ['',\n",
       "  'def myfunc():\\n    x= 150\\n    print(x)',\n",
       "  'def myfunc():\\n    x= 150\\n    print(x)\\n    \\nmyfunc()',\n",
       "  'x',\n",
       "  'x= 200\\n\\ndef myfunc():\\n    #x= 150\\n    print(x)\\n    \\nmyfunc()',\n",
       "  'x= 200\\n\\ndef myfunc():\\n    x= 150\\n    print(x)\\n    \\nmyfunc()\\nx',\n",
       "  'def myfunc():\\n    x= 150\\n    def myinfun():\\n        print(x)\\n        myinfun()\\n    \\nmyfunc()',\n",
       "  'def myfunc():\\n    x= 150\\n    def myinfun():\\n        print(x)\\n    myinfun()\\n    \\nmyfunc()',\n",
       "  'globals().keys()',\n",
       "  'locals().keys()',\n",
       "  'locals()',\n",
       "  'def myfunc():\\n    x= 150\\n    print(x)\\n    \\n    \\nmyfunc()',\n",
       "  'def myfunc():\\n    x= 150\\n    myinfunc():\\n        print(x)\\n    myinfunc()\\n    \\n    \\nmyfunc()',\n",
       "  'def myfunc():\\n    x= 150\\n    myinfunc():\\n        print(x)\\n    myinfunc()\\n    \\n    \\nmyfunc()',\n",
       "  '#local scope\\ndef myfunc():\\n    x= 150\\n    print(x)\\n    \\nmyfunc()',\n",
       "  '#local scope\\ndef myfunc():\\n    x= 150\\n    def myinfunc():\\n        print(x)\\n    myinfunc()\\n    \\nmyfunc()',\n",
       "  '#local scope\\ndef myfunc():\\n    x= 150\\n    def myinfunc():\\n        print(x)\\n    myinfunc()\\n    \\nmyfunc()\\n\\nx',\n",
       "  '#local scope\\ndef myfunc():\\n    x= 150\\n    def myinfunc():\\n        print(x)\\n    myinfunc()\\n    \\nmyfunc()',\n",
       "  '#local scope\\ndef myfunc():\\n    b= 150\\n    def myinfunc():\\n        print(b)\\n    myinfunc()\\n    \\nmyfunc()',\n",
       "  '#local scope\\ndef myfunc():\\n    b= 150\\n    def myinfunc():\\n        print(b)\\n    myinfunc()\\n    \\nmyfunc()\\nb',\n",
       "  '#global scope\\nc= 150\\n\\ndef myfuncc():\\n    print(c)\\n\\nmyfuncc()\\n    ',\n",
       "  '#global scope\\nc= 150\\n\\ndef myfuncc():\\n    global c\\n    c= 200\\n    print(c)\\n\\nmyfuncc()\\nc\\n    ',\n",
       "  '#global scope\\nd= 150\\n\\ndef myfuncc():\\n    d= 200      \\n    print(d)\\nmyfuncc()\\n\\nd',\n",
       "  'globals()'],\n",
       " 'Out': {5: 200,\n",
       "  8: dict_keys(['__name__', '__doc__', '__package__', '__loader__', '__spec__', '__builtin__', '__builtins__', '_ih', '_oh', '_dh', 'In', 'Out', 'get_ipython', 'exit', 'quit', '_', '__', '___', '_i', '_ii', '_iii', '_i1', 'myfunc', '_i2', '_i3', '_i4', 'x', '_i5', '_5', '_i6', '_i7', '_i8', '_8', '_i9', '_9', '_i10', '_10', '_i11', '_i12', '_i13', '_i14', '_i15', '_i16', '_16', '_i17', '_i18', '_i19', '_i20', 'c', 'myfuncc', '_i21', '_21', '_i22', 'd', '_22', '_i23']),\n",
       "  9: dict_keys(['__name__', '__doc__', '__package__', '__loader__', '__spec__', '__builtin__', '__builtins__', '_ih', '_oh', '_dh', 'In', 'Out', 'get_ipython', 'exit', 'quit', '_', '__', '___', '_i', '_ii', '_iii', '_i1', 'myfunc', '_i2', '_i3', '_i4', 'x', '_i5', '_5', '_i6', '_i7', '_i8', '_8', '_i9', '_9', '_i10', '_10', '_i11', '_i12', '_i13', '_i14', '_i15', '_i16', '_16', '_i17', '_i18', '_i19', '_i20', 'c', 'myfuncc', '_i21', '_21', '_i22', 'd', '_22', '_i23']),\n",
       "  10: {...},\n",
       "  16: 200,\n",
       "  21: 200,\n",
       "  22: 150},\n",
       " 'get_ipython': <bound method InteractiveShell.get_ipython of <ipykernel.zmqshell.ZMQInteractiveShell object at 0x000001FE80DAADC0>>,\n",
       " 'exit': <IPython.core.autocall.ZMQExitAutocall at 0x1fe80e07790>,\n",
       " 'quit': <IPython.core.autocall.ZMQExitAutocall at 0x1fe80e07790>,\n",
       " '_': 150,\n",
       " '__': 200,\n",
       " '___': 200,\n",
       " '_i': '#global scope\\nd= 150\\n\\ndef myfuncc():\\n    d= 200      \\n    print(d)\\nmyfuncc()\\n\\nd',\n",
       " '_ii': '#global scope\\nc= 150\\n\\ndef myfuncc():\\n    global c\\n    c= 200\\n    print(c)\\n\\nmyfuncc()\\nc\\n    ',\n",
       " '_iii': '#global scope\\nc= 150\\n\\ndef myfuncc():\\n    print(c)\\n\\nmyfuncc()\\n    ',\n",
       " '_i1': 'def myfunc():\\n    x= 150\\n    print(x)',\n",
       " 'myfunc': <function __main__.myfunc()>,\n",
       " '_i2': 'def myfunc():\\n    x= 150\\n    print(x)\\n    \\nmyfunc()',\n",
       " '_i3': 'x',\n",
       " '_i4': 'x= 200\\n\\ndef myfunc():\\n    #x= 150\\n    print(x)\\n    \\nmyfunc()',\n",
       " 'x': 200,\n",
       " '_i5': 'x= 200\\n\\ndef myfunc():\\n    x= 150\\n    print(x)\\n    \\nmyfunc()\\nx',\n",
       " '_5': 200,\n",
       " '_i6': 'def myfunc():\\n    x= 150\\n    def myinfun():\\n        print(x)\\n        myinfun()\\n    \\nmyfunc()',\n",
       " '_i7': 'def myfunc():\\n    x= 150\\n    def myinfun():\\n        print(x)\\n    myinfun()\\n    \\nmyfunc()',\n",
       " '_i8': 'globals().keys()',\n",
       " '_8': dict_keys(['__name__', '__doc__', '__package__', '__loader__', '__spec__', '__builtin__', '__builtins__', '_ih', '_oh', '_dh', 'In', 'Out', 'get_ipython', 'exit', 'quit', '_', '__', '___', '_i', '_ii', '_iii', '_i1', 'myfunc', '_i2', '_i3', '_i4', 'x', '_i5', '_5', '_i6', '_i7', '_i8', '_8', '_i9', '_9', '_i10', '_10', '_i11', '_i12', '_i13', '_i14', '_i15', '_i16', '_16', '_i17', '_i18', '_i19', '_i20', 'c', 'myfuncc', '_i21', '_21', '_i22', 'd', '_22', '_i23']),\n",
       " '_i9': 'locals().keys()',\n",
       " '_9': dict_keys(['__name__', '__doc__', '__package__', '__loader__', '__spec__', '__builtin__', '__builtins__', '_ih', '_oh', '_dh', 'In', 'Out', 'get_ipython', 'exit', 'quit', '_', '__', '___', '_i', '_ii', '_iii', '_i1', 'myfunc', '_i2', '_i3', '_i4', 'x', '_i5', '_5', '_i6', '_i7', '_i8', '_8', '_i9', '_9', '_i10', '_10', '_i11', '_i12', '_i13', '_i14', '_i15', '_i16', '_16', '_i17', '_i18', '_i19', '_i20', 'c', 'myfuncc', '_i21', '_21', '_i22', 'd', '_22', '_i23']),\n",
       " '_i10': 'locals()',\n",
       " '_10': {...},\n",
       " '_i11': 'def myfunc():\\n    x= 150\\n    print(x)\\n    \\n    \\nmyfunc()',\n",
       " '_i12': 'def myfunc():\\n    x= 150\\n    myinfunc():\\n        print(x)\\n    myinfunc()\\n    \\n    \\nmyfunc()',\n",
       " '_i13': 'def myfunc():\\n    x= 150\\n    myinfunc():\\n        print(x)\\n    myinfunc()\\n    \\n    \\nmyfunc()',\n",
       " '_i14': '#local scope\\ndef myfunc():\\n    x= 150\\n    print(x)\\n    \\nmyfunc()',\n",
       " '_i15': '#local scope\\ndef myfunc():\\n    x= 150\\n    def myinfunc():\\n        print(x)\\n    myinfunc()\\n    \\nmyfunc()',\n",
       " '_i16': '#local scope\\ndef myfunc():\\n    x= 150\\n    def myinfunc():\\n        print(x)\\n    myinfunc()\\n    \\nmyfunc()\\n\\nx',\n",
       " '_16': 200,\n",
       " '_i17': '#local scope\\ndef myfunc():\\n    x= 150\\n    def myinfunc():\\n        print(x)\\n    myinfunc()\\n    \\nmyfunc()',\n",
       " '_i18': '#local scope\\ndef myfunc():\\n    b= 150\\n    def myinfunc():\\n        print(b)\\n    myinfunc()\\n    \\nmyfunc()',\n",
       " '_i19': '#local scope\\ndef myfunc():\\n    b= 150\\n    def myinfunc():\\n        print(b)\\n    myinfunc()\\n    \\nmyfunc()\\nb',\n",
       " '_i20': '#global scope\\nc= 150\\n\\ndef myfuncc():\\n    print(c)\\n\\nmyfuncc()\\n    ',\n",
       " 'c': 200,\n",
       " 'myfuncc': <function __main__.myfuncc()>,\n",
       " '_i21': '#global scope\\nc= 150\\n\\ndef myfuncc():\\n    global c\\n    c= 200\\n    print(c)\\n\\nmyfuncc()\\nc\\n    ',\n",
       " '_21': 200,\n",
       " '_i22': '#global scope\\nd= 150\\n\\ndef myfuncc():\\n    d= 200      \\n    print(d)\\nmyfuncc()\\n\\nd',\n",
       " 'd': 150,\n",
       " '_22': 150,\n",
       " '_i23': 'globals()'}"
      ]
     },
     "execution_count": 23,
     "metadata": {},
     "output_type": "execute_result"
    }
   ],
   "source": [
    "globals()"
   ]
  },
  {
   "cell_type": "code",
   "execution_count": 25,
   "id": "b6ea14f7",
   "metadata": {},
   "outputs": [
    {
     "data": {
      "text/plain": [
       "dict_keys(['__name__', '__doc__', '__package__', '__loader__', '__spec__', '__builtin__', '__builtins__', '_ih', '_oh', '_dh', 'In', 'Out', 'get_ipython', 'exit', 'quit', '_', '__', '___', '_i', '_ii', '_iii', '_i1', 'myfunc', '_i2', '_i3', '_i4', 'x', '_i5', '_5', '_i6', '_i7', '_i8', '_8', '_i9', '_9', '_i10', '_10', '_i11', '_i12', '_i13', '_i14', '_i15', '_i16', '_16', '_i17', '_i18', '_i19', '_i20', 'c', 'myfuncc', '_i21', '_21', '_i22', 'd', '_22', '_i23', '_23', '_i24', '_24', '_i25'])"
      ]
     },
     "execution_count": 25,
     "metadata": {},
     "output_type": "execute_result"
    }
   ],
   "source": [
    "globals().keys()"
   ]
  },
  {
   "cell_type": "code",
   "execution_count": 28,
   "id": "18d41d2e",
   "metadata": {},
   "outputs": [
    {
     "data": {
      "text/plain": [
       "{'__name__': '__main__',\n",
       " '__doc__': 'Automatically created module for IPython interactive environment',\n",
       " '__package__': None,\n",
       " '__loader__': None,\n",
       " '__spec__': None,\n",
       " '__builtin__': <module 'builtins' (built-in)>,\n",
       " '__builtins__': <module 'builtins' (built-in)>,\n",
       " '_ih': ['',\n",
       "  'def myfunc():\\n    x= 150\\n    print(x)',\n",
       "  'def myfunc():\\n    x= 150\\n    print(x)\\n    \\nmyfunc()',\n",
       "  'x',\n",
       "  'x= 200\\n\\ndef myfunc():\\n    #x= 150\\n    print(x)\\n    \\nmyfunc()',\n",
       "  'x= 200\\n\\ndef myfunc():\\n    x= 150\\n    print(x)\\n    \\nmyfunc()\\nx',\n",
       "  'def myfunc():\\n    x= 150\\n    def myinfun():\\n        print(x)\\n        myinfun()\\n    \\nmyfunc()',\n",
       "  'def myfunc():\\n    x= 150\\n    def myinfun():\\n        print(x)\\n    myinfun()\\n    \\nmyfunc()',\n",
       "  'globals().keys()',\n",
       "  'locals().keys()',\n",
       "  'locals()',\n",
       "  'def myfunc():\\n    x= 150\\n    print(x)\\n    \\n    \\nmyfunc()',\n",
       "  'def myfunc():\\n    x= 150\\n    myinfunc():\\n        print(x)\\n    myinfunc()\\n    \\n    \\nmyfunc()',\n",
       "  'def myfunc():\\n    x= 150\\n    myinfunc():\\n        print(x)\\n    myinfunc()\\n    \\n    \\nmyfunc()',\n",
       "  '#local scope\\ndef myfunc():\\n    x= 150\\n    print(x)\\n    \\nmyfunc()',\n",
       "  '#local scope\\ndef myfunc():\\n    x= 150\\n    def myinfunc():\\n        print(x)\\n    myinfunc()\\n    \\nmyfunc()',\n",
       "  '#local scope\\ndef myfunc():\\n    x= 150\\n    def myinfunc():\\n        print(x)\\n    myinfunc()\\n    \\nmyfunc()\\n\\nx',\n",
       "  '#local scope\\ndef myfunc():\\n    x= 150\\n    def myinfunc():\\n        print(x)\\n    myinfunc()\\n    \\nmyfunc()',\n",
       "  '#local scope\\ndef myfunc():\\n    b= 150\\n    def myinfunc():\\n        print(b)\\n    myinfunc()\\n    \\nmyfunc()',\n",
       "  '#local scope\\ndef myfunc():\\n    b= 150\\n    def myinfunc():\\n        print(b)\\n    myinfunc()\\n    \\nmyfunc()\\nb',\n",
       "  '#global scope\\nc= 150\\n\\ndef myfuncc():\\n    print(c)\\n\\nmyfuncc()\\n    ',\n",
       "  '#global scope\\nc= 150\\n\\ndef myfuncc():\\n    global c\\n    c= 200\\n    print(c)\\n\\nmyfuncc()\\nc\\n    ',\n",
       "  '#global scope\\nd= 150\\n\\ndef myfuncc():\\n    d= 200      \\n    print(d)\\nmyfuncc()\\n\\nd',\n",
       "  'globals()',\n",
       "  'locals()',\n",
       "  'globals().keys()',\n",
       "  'locals().keys()',\n",
       "  '#local scope from nested function\\ndef myfunc():\\n    b= 150\\n    def myinfunc():\\n        print(b)\\n    myinfunc()\\n    \\nmyfunc()',\n",
       "  'locals()'],\n",
       " '_oh': {5: 200,\n",
       "  8: dict_keys(['__name__', '__doc__', '__package__', '__loader__', '__spec__', '__builtin__', '__builtins__', '_ih', '_oh', '_dh', 'In', 'Out', 'get_ipython', 'exit', 'quit', '_', '__', '___', '_i', '_ii', '_iii', '_i1', 'myfunc', '_i2', '_i3', '_i4', 'x', '_i5', '_5', '_i6', '_i7', '_i8', '_8', '_i9', '_9', '_i10', '_10', '_i11', '_i12', '_i13', '_i14', '_i15', '_i16', '_16', '_i17', '_i18', '_i19', '_i20', 'c', 'myfuncc', '_i21', '_21', '_i22', 'd', '_22', '_i23', '_23', '_i24', '_24', '_i25', '_25', '_i26', '_26', '_i27', '_i28']),\n",
       "  9: dict_keys(['__name__', '__doc__', '__package__', '__loader__', '__spec__', '__builtin__', '__builtins__', '_ih', '_oh', '_dh', 'In', 'Out', 'get_ipython', 'exit', 'quit', '_', '__', '___', '_i', '_ii', '_iii', '_i1', 'myfunc', '_i2', '_i3', '_i4', 'x', '_i5', '_5', '_i6', '_i7', '_i8', '_8', '_i9', '_9', '_i10', '_10', '_i11', '_i12', '_i13', '_i14', '_i15', '_i16', '_16', '_i17', '_i18', '_i19', '_i20', 'c', 'myfuncc', '_i21', '_21', '_i22', 'd', '_22', '_i23', '_23', '_i24', '_24', '_i25', '_25', '_i26', '_26', '_i27', '_i28']),\n",
       "  10: {...},\n",
       "  16: 200,\n",
       "  21: 200,\n",
       "  22: 150,\n",
       "  23: {...},\n",
       "  24: {...},\n",
       "  25: dict_keys(['__name__', '__doc__', '__package__', '__loader__', '__spec__', '__builtin__', '__builtins__', '_ih', '_oh', '_dh', 'In', 'Out', 'get_ipython', 'exit', 'quit', '_', '__', '___', '_i', '_ii', '_iii', '_i1', 'myfunc', '_i2', '_i3', '_i4', 'x', '_i5', '_5', '_i6', '_i7', '_i8', '_8', '_i9', '_9', '_i10', '_10', '_i11', '_i12', '_i13', '_i14', '_i15', '_i16', '_16', '_i17', '_i18', '_i19', '_i20', 'c', 'myfuncc', '_i21', '_21', '_i22', 'd', '_22', '_i23', '_23', '_i24', '_24', '_i25', '_25', '_i26', '_26', '_i27', '_i28']),\n",
       "  26: dict_keys(['__name__', '__doc__', '__package__', '__loader__', '__spec__', '__builtin__', '__builtins__', '_ih', '_oh', '_dh', 'In', 'Out', 'get_ipython', 'exit', 'quit', '_', '__', '___', '_i', '_ii', '_iii', '_i1', 'myfunc', '_i2', '_i3', '_i4', 'x', '_i5', '_5', '_i6', '_i7', '_i8', '_8', '_i9', '_9', '_i10', '_10', '_i11', '_i12', '_i13', '_i14', '_i15', '_i16', '_16', '_i17', '_i18', '_i19', '_i20', 'c', 'myfuncc', '_i21', '_21', '_i22', 'd', '_22', '_i23', '_23', '_i24', '_24', '_i25', '_25', '_i26', '_26', '_i27', '_i28'])},\n",
       " '_dh': ['C:\\\\Users\\\\ogem8001\\\\ICT Connect Tutorials\\\\Python Tutorials'],\n",
       " 'In': ['',\n",
       "  'def myfunc():\\n    x= 150\\n    print(x)',\n",
       "  'def myfunc():\\n    x= 150\\n    print(x)\\n    \\nmyfunc()',\n",
       "  'x',\n",
       "  'x= 200\\n\\ndef myfunc():\\n    #x= 150\\n    print(x)\\n    \\nmyfunc()',\n",
       "  'x= 200\\n\\ndef myfunc():\\n    x= 150\\n    print(x)\\n    \\nmyfunc()\\nx',\n",
       "  'def myfunc():\\n    x= 150\\n    def myinfun():\\n        print(x)\\n        myinfun()\\n    \\nmyfunc()',\n",
       "  'def myfunc():\\n    x= 150\\n    def myinfun():\\n        print(x)\\n    myinfun()\\n    \\nmyfunc()',\n",
       "  'globals().keys()',\n",
       "  'locals().keys()',\n",
       "  'locals()',\n",
       "  'def myfunc():\\n    x= 150\\n    print(x)\\n    \\n    \\nmyfunc()',\n",
       "  'def myfunc():\\n    x= 150\\n    myinfunc():\\n        print(x)\\n    myinfunc()\\n    \\n    \\nmyfunc()',\n",
       "  'def myfunc():\\n    x= 150\\n    myinfunc():\\n        print(x)\\n    myinfunc()\\n    \\n    \\nmyfunc()',\n",
       "  '#local scope\\ndef myfunc():\\n    x= 150\\n    print(x)\\n    \\nmyfunc()',\n",
       "  '#local scope\\ndef myfunc():\\n    x= 150\\n    def myinfunc():\\n        print(x)\\n    myinfunc()\\n    \\nmyfunc()',\n",
       "  '#local scope\\ndef myfunc():\\n    x= 150\\n    def myinfunc():\\n        print(x)\\n    myinfunc()\\n    \\nmyfunc()\\n\\nx',\n",
       "  '#local scope\\ndef myfunc():\\n    x= 150\\n    def myinfunc():\\n        print(x)\\n    myinfunc()\\n    \\nmyfunc()',\n",
       "  '#local scope\\ndef myfunc():\\n    b= 150\\n    def myinfunc():\\n        print(b)\\n    myinfunc()\\n    \\nmyfunc()',\n",
       "  '#local scope\\ndef myfunc():\\n    b= 150\\n    def myinfunc():\\n        print(b)\\n    myinfunc()\\n    \\nmyfunc()\\nb',\n",
       "  '#global scope\\nc= 150\\n\\ndef myfuncc():\\n    print(c)\\n\\nmyfuncc()\\n    ',\n",
       "  '#global scope\\nc= 150\\n\\ndef myfuncc():\\n    global c\\n    c= 200\\n    print(c)\\n\\nmyfuncc()\\nc\\n    ',\n",
       "  '#global scope\\nd= 150\\n\\ndef myfuncc():\\n    d= 200      \\n    print(d)\\nmyfuncc()\\n\\nd',\n",
       "  'globals()',\n",
       "  'locals()',\n",
       "  'globals().keys()',\n",
       "  'locals().keys()',\n",
       "  '#local scope from nested function\\ndef myfunc():\\n    b= 150\\n    def myinfunc():\\n        print(b)\\n    myinfunc()\\n    \\nmyfunc()',\n",
       "  'locals()'],\n",
       " 'Out': {5: 200,\n",
       "  8: dict_keys(['__name__', '__doc__', '__package__', '__loader__', '__spec__', '__builtin__', '__builtins__', '_ih', '_oh', '_dh', 'In', 'Out', 'get_ipython', 'exit', 'quit', '_', '__', '___', '_i', '_ii', '_iii', '_i1', 'myfunc', '_i2', '_i3', '_i4', 'x', '_i5', '_5', '_i6', '_i7', '_i8', '_8', '_i9', '_9', '_i10', '_10', '_i11', '_i12', '_i13', '_i14', '_i15', '_i16', '_16', '_i17', '_i18', '_i19', '_i20', 'c', 'myfuncc', '_i21', '_21', '_i22', 'd', '_22', '_i23', '_23', '_i24', '_24', '_i25', '_25', '_i26', '_26', '_i27', '_i28']),\n",
       "  9: dict_keys(['__name__', '__doc__', '__package__', '__loader__', '__spec__', '__builtin__', '__builtins__', '_ih', '_oh', '_dh', 'In', 'Out', 'get_ipython', 'exit', 'quit', '_', '__', '___', '_i', '_ii', '_iii', '_i1', 'myfunc', '_i2', '_i3', '_i4', 'x', '_i5', '_5', '_i6', '_i7', '_i8', '_8', '_i9', '_9', '_i10', '_10', '_i11', '_i12', '_i13', '_i14', '_i15', '_i16', '_16', '_i17', '_i18', '_i19', '_i20', 'c', 'myfuncc', '_i21', '_21', '_i22', 'd', '_22', '_i23', '_23', '_i24', '_24', '_i25', '_25', '_i26', '_26', '_i27', '_i28']),\n",
       "  10: {...},\n",
       "  16: 200,\n",
       "  21: 200,\n",
       "  22: 150,\n",
       "  23: {...},\n",
       "  24: {...},\n",
       "  25: dict_keys(['__name__', '__doc__', '__package__', '__loader__', '__spec__', '__builtin__', '__builtins__', '_ih', '_oh', '_dh', 'In', 'Out', 'get_ipython', 'exit', 'quit', '_', '__', '___', '_i', '_ii', '_iii', '_i1', 'myfunc', '_i2', '_i3', '_i4', 'x', '_i5', '_5', '_i6', '_i7', '_i8', '_8', '_i9', '_9', '_i10', '_10', '_i11', '_i12', '_i13', '_i14', '_i15', '_i16', '_16', '_i17', '_i18', '_i19', '_i20', 'c', 'myfuncc', '_i21', '_21', '_i22', 'd', '_22', '_i23', '_23', '_i24', '_24', '_i25', '_25', '_i26', '_26', '_i27', '_i28']),\n",
       "  26: dict_keys(['__name__', '__doc__', '__package__', '__loader__', '__spec__', '__builtin__', '__builtins__', '_ih', '_oh', '_dh', 'In', 'Out', 'get_ipython', 'exit', 'quit', '_', '__', '___', '_i', '_ii', '_iii', '_i1', 'myfunc', '_i2', '_i3', '_i4', 'x', '_i5', '_5', '_i6', '_i7', '_i8', '_8', '_i9', '_9', '_i10', '_10', '_i11', '_i12', '_i13', '_i14', '_i15', '_i16', '_16', '_i17', '_i18', '_i19', '_i20', 'c', 'myfuncc', '_i21', '_21', '_i22', 'd', '_22', '_i23', '_23', '_i24', '_24', '_i25', '_25', '_i26', '_26', '_i27', '_i28'])},\n",
       " 'get_ipython': <bound method InteractiveShell.get_ipython of <ipykernel.zmqshell.ZMQInteractiveShell object at 0x000001FE80DAADC0>>,\n",
       " 'exit': <IPython.core.autocall.ZMQExitAutocall at 0x1fe80e07790>,\n",
       " 'quit': <IPython.core.autocall.ZMQExitAutocall at 0x1fe80e07790>,\n",
       " '_': dict_keys(['__name__', '__doc__', '__package__', '__loader__', '__spec__', '__builtin__', '__builtins__', '_ih', '_oh', '_dh', 'In', 'Out', 'get_ipython', 'exit', 'quit', '_', '__', '___', '_i', '_ii', '_iii', '_i1', 'myfunc', '_i2', '_i3', '_i4', 'x', '_i5', '_5', '_i6', '_i7', '_i8', '_8', '_i9', '_9', '_i10', '_10', '_i11', '_i12', '_i13', '_i14', '_i15', '_i16', '_16', '_i17', '_i18', '_i19', '_i20', 'c', 'myfuncc', '_i21', '_21', '_i22', 'd', '_22', '_i23', '_23', '_i24', '_24', '_i25', '_25', '_i26', '_26', '_i27', '_i28']),\n",
       " '__': dict_keys(['__name__', '__doc__', '__package__', '__loader__', '__spec__', '__builtin__', '__builtins__', '_ih', '_oh', '_dh', 'In', 'Out', 'get_ipython', 'exit', 'quit', '_', '__', '___', '_i', '_ii', '_iii', '_i1', 'myfunc', '_i2', '_i3', '_i4', 'x', '_i5', '_5', '_i6', '_i7', '_i8', '_8', '_i9', '_9', '_i10', '_10', '_i11', '_i12', '_i13', '_i14', '_i15', '_i16', '_16', '_i17', '_i18', '_i19', '_i20', 'c', 'myfuncc', '_i21', '_21', '_i22', 'd', '_22', '_i23', '_23', '_i24', '_24', '_i25', '_25', '_i26', '_26', '_i27', '_i28']),\n",
       " '___': {...},\n",
       " '_i': '#local scope from nested function\\ndef myfunc():\\n    b= 150\\n    def myinfunc():\\n        print(b)\\n    myinfunc()\\n    \\nmyfunc()',\n",
       " '_ii': 'locals().keys()',\n",
       " '_iii': 'globals().keys()',\n",
       " '_i1': 'def myfunc():\\n    x= 150\\n    print(x)',\n",
       " 'myfunc': <function __main__.myfunc()>,\n",
       " '_i2': 'def myfunc():\\n    x= 150\\n    print(x)\\n    \\nmyfunc()',\n",
       " '_i3': 'x',\n",
       " '_i4': 'x= 200\\n\\ndef myfunc():\\n    #x= 150\\n    print(x)\\n    \\nmyfunc()',\n",
       " 'x': 200,\n",
       " '_i5': 'x= 200\\n\\ndef myfunc():\\n    x= 150\\n    print(x)\\n    \\nmyfunc()\\nx',\n",
       " '_5': 200,\n",
       " '_i6': 'def myfunc():\\n    x= 150\\n    def myinfun():\\n        print(x)\\n        myinfun()\\n    \\nmyfunc()',\n",
       " '_i7': 'def myfunc():\\n    x= 150\\n    def myinfun():\\n        print(x)\\n    myinfun()\\n    \\nmyfunc()',\n",
       " '_i8': 'globals().keys()',\n",
       " '_8': dict_keys(['__name__', '__doc__', '__package__', '__loader__', '__spec__', '__builtin__', '__builtins__', '_ih', '_oh', '_dh', 'In', 'Out', 'get_ipython', 'exit', 'quit', '_', '__', '___', '_i', '_ii', '_iii', '_i1', 'myfunc', '_i2', '_i3', '_i4', 'x', '_i5', '_5', '_i6', '_i7', '_i8', '_8', '_i9', '_9', '_i10', '_10', '_i11', '_i12', '_i13', '_i14', '_i15', '_i16', '_16', '_i17', '_i18', '_i19', '_i20', 'c', 'myfuncc', '_i21', '_21', '_i22', 'd', '_22', '_i23', '_23', '_i24', '_24', '_i25', '_25', '_i26', '_26', '_i27', '_i28']),\n",
       " '_i9': 'locals().keys()',\n",
       " '_9': dict_keys(['__name__', '__doc__', '__package__', '__loader__', '__spec__', '__builtin__', '__builtins__', '_ih', '_oh', '_dh', 'In', 'Out', 'get_ipython', 'exit', 'quit', '_', '__', '___', '_i', '_ii', '_iii', '_i1', 'myfunc', '_i2', '_i3', '_i4', 'x', '_i5', '_5', '_i6', '_i7', '_i8', '_8', '_i9', '_9', '_i10', '_10', '_i11', '_i12', '_i13', '_i14', '_i15', '_i16', '_16', '_i17', '_i18', '_i19', '_i20', 'c', 'myfuncc', '_i21', '_21', '_i22', 'd', '_22', '_i23', '_23', '_i24', '_24', '_i25', '_25', '_i26', '_26', '_i27', '_i28']),\n",
       " '_i10': 'locals()',\n",
       " '_10': {...},\n",
       " '_i11': 'def myfunc():\\n    x= 150\\n    print(x)\\n    \\n    \\nmyfunc()',\n",
       " '_i12': 'def myfunc():\\n    x= 150\\n    myinfunc():\\n        print(x)\\n    myinfunc()\\n    \\n    \\nmyfunc()',\n",
       " '_i13': 'def myfunc():\\n    x= 150\\n    myinfunc():\\n        print(x)\\n    myinfunc()\\n    \\n    \\nmyfunc()',\n",
       " '_i14': '#local scope\\ndef myfunc():\\n    x= 150\\n    print(x)\\n    \\nmyfunc()',\n",
       " '_i15': '#local scope\\ndef myfunc():\\n    x= 150\\n    def myinfunc():\\n        print(x)\\n    myinfunc()\\n    \\nmyfunc()',\n",
       " '_i16': '#local scope\\ndef myfunc():\\n    x= 150\\n    def myinfunc():\\n        print(x)\\n    myinfunc()\\n    \\nmyfunc()\\n\\nx',\n",
       " '_16': 200,\n",
       " '_i17': '#local scope\\ndef myfunc():\\n    x= 150\\n    def myinfunc():\\n        print(x)\\n    myinfunc()\\n    \\nmyfunc()',\n",
       " '_i18': '#local scope\\ndef myfunc():\\n    b= 150\\n    def myinfunc():\\n        print(b)\\n    myinfunc()\\n    \\nmyfunc()',\n",
       " '_i19': '#local scope\\ndef myfunc():\\n    b= 150\\n    def myinfunc():\\n        print(b)\\n    myinfunc()\\n    \\nmyfunc()\\nb',\n",
       " '_i20': '#global scope\\nc= 150\\n\\ndef myfuncc():\\n    print(c)\\n\\nmyfuncc()\\n    ',\n",
       " 'c': 200,\n",
       " 'myfuncc': <function __main__.myfuncc()>,\n",
       " '_i21': '#global scope\\nc= 150\\n\\ndef myfuncc():\\n    global c\\n    c= 200\\n    print(c)\\n\\nmyfuncc()\\nc\\n    ',\n",
       " '_21': 200,\n",
       " '_i22': '#global scope\\nd= 150\\n\\ndef myfuncc():\\n    d= 200      \\n    print(d)\\nmyfuncc()\\n\\nd',\n",
       " 'd': 150,\n",
       " '_22': 150,\n",
       " '_i23': 'globals()',\n",
       " '_23': {...},\n",
       " '_i24': 'locals()',\n",
       " '_24': {...},\n",
       " '_i25': 'globals().keys()',\n",
       " '_25': dict_keys(['__name__', '__doc__', '__package__', '__loader__', '__spec__', '__builtin__', '__builtins__', '_ih', '_oh', '_dh', 'In', 'Out', 'get_ipython', 'exit', 'quit', '_', '__', '___', '_i', '_ii', '_iii', '_i1', 'myfunc', '_i2', '_i3', '_i4', 'x', '_i5', '_5', '_i6', '_i7', '_i8', '_8', '_i9', '_9', '_i10', '_10', '_i11', '_i12', '_i13', '_i14', '_i15', '_i16', '_16', '_i17', '_i18', '_i19', '_i20', 'c', 'myfuncc', '_i21', '_21', '_i22', 'd', '_22', '_i23', '_23', '_i24', '_24', '_i25', '_25', '_i26', '_26', '_i27', '_i28']),\n",
       " '_i26': 'locals().keys()',\n",
       " '_26': dict_keys(['__name__', '__doc__', '__package__', '__loader__', '__spec__', '__builtin__', '__builtins__', '_ih', '_oh', '_dh', 'In', 'Out', 'get_ipython', 'exit', 'quit', '_', '__', '___', '_i', '_ii', '_iii', '_i1', 'myfunc', '_i2', '_i3', '_i4', 'x', '_i5', '_5', '_i6', '_i7', '_i8', '_8', '_i9', '_9', '_i10', '_10', '_i11', '_i12', '_i13', '_i14', '_i15', '_i16', '_16', '_i17', '_i18', '_i19', '_i20', 'c', 'myfuncc', '_i21', '_21', '_i22', 'd', '_22', '_i23', '_23', '_i24', '_24', '_i25', '_25', '_i26', '_26', '_i27', '_i28']),\n",
       " '_i27': '#local scope from nested function\\ndef myfunc():\\n    b= 150\\n    def myinfunc():\\n        print(b)\\n    myinfunc()\\n    \\nmyfunc()',\n",
       " '_i28': 'locals()'}"
      ]
     },
     "execution_count": 28,
     "metadata": {},
     "output_type": "execute_result"
    }
   ],
   "source": [
    "locals()"
   ]
  },
  {
   "cell_type": "code",
   "execution_count": 26,
   "id": "f00f8bb9",
   "metadata": {},
   "outputs": [
    {
     "data": {
      "text/plain": [
       "dict_keys(['__name__', '__doc__', '__package__', '__loader__', '__spec__', '__builtin__', '__builtins__', '_ih', '_oh', '_dh', 'In', 'Out', 'get_ipython', 'exit', 'quit', '_', '__', '___', '_i', '_ii', '_iii', '_i1', 'myfunc', '_i2', '_i3', '_i4', 'x', '_i5', '_5', '_i6', '_i7', '_i8', '_8', '_i9', '_9', '_i10', '_10', '_i11', '_i12', '_i13', '_i14', '_i15', '_i16', '_16', '_i17', '_i18', '_i19', '_i20', 'c', 'myfuncc', '_i21', '_21', '_i22', 'd', '_22', '_i23', '_23', '_i24', '_24', '_i25', '_25', '_i26'])"
      ]
     },
     "execution_count": 26,
     "metadata": {},
     "output_type": "execute_result"
    }
   ],
   "source": [
    "locals().keys()"
   ]
  },
  {
   "cell_type": "code",
   "execution_count": null,
   "id": "f83fafae",
   "metadata": {},
   "outputs": [],
   "source": []
  },
  {
   "cell_type": "code",
   "execution_count": null,
   "id": "2afff63c",
   "metadata": {},
   "outputs": [],
   "source": []
  },
  {
   "cell_type": "code",
   "execution_count": null,
   "id": "61893c35",
   "metadata": {},
   "outputs": [],
   "source": []
  },
  {
   "cell_type": "code",
   "execution_count": null,
   "id": "e06f94fb",
   "metadata": {},
   "outputs": [],
   "source": []
  },
  {
   "cell_type": "code",
   "execution_count": null,
   "id": "cc468841",
   "metadata": {},
   "outputs": [],
   "source": []
  }
 ],
 "metadata": {
  "kernelspec": {
   "display_name": "Python 3 (ipykernel)",
   "language": "python",
   "name": "python3"
  },
  "language_info": {
   "codemirror_mode": {
    "name": "ipython",
    "version": 3
   },
   "file_extension": ".py",
   "mimetype": "text/x-python",
   "name": "python",
   "nbconvert_exporter": "python",
   "pygments_lexer": "ipython3",
   "version": "3.9.7"
  }
 },
 "nbformat": 4,
 "nbformat_minor": 5
}
