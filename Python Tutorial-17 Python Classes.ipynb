{
 "cells": [
  {
   "cell_type": "code",
   "execution_count": 1,
   "id": "2ab7ed3d",
   "metadata": {},
   "outputs": [],
   "source": [
    "class employee:\n",
    "    #properties\n",
    "    #methods\n",
    "    pass"
   ]
  },
  {
   "cell_type": "code",
   "execution_count": 2,
   "id": "0c17dac1",
   "metadata": {},
   "outputs": [
    {
     "name": "stdout",
     "output_type": "stream",
     "text": [
      "<__main__.employee object at 0x000001576AB12430>\n",
      "<__main__.employee object at 0x000001576AADDD30>\n"
     ]
    }
   ],
   "source": [
    "emp1= employee()\n",
    "emp2= employee()\n",
    "\n",
    "print(emp1)\n",
    "print(emp2)\n"
   ]
  },
  {
   "cell_type": "code",
   "execution_count": 3,
   "id": "59a7a684",
   "metadata": {},
   "outputs": [
    {
     "data": {
      "text/plain": [
       "'betty'"
      ]
     },
     "execution_count": 3,
     "metadata": {},
     "output_type": "execute_result"
    }
   ],
   "source": [
    "emp1.fname= 'betty'\n",
    "emp1.fname"
   ]
  },
  {
   "cell_type": "code",
   "execution_count": 4,
   "id": "f40ce4da",
   "metadata": {},
   "outputs": [],
   "source": [
    "class employee:\n",
    "    def __init__(self,fname,lname,email,food):\n",
    "        self.firstname=fname\n",
    "        self.lastname=lname\n",
    "        self.emails=email\n",
    "        self.diet=food\n",
    "        \n",
    "    def diett(self):\n",
    "        print(self.firstname,'loves',self.diet)\n",
    "        \n",
    "    def email(self):\n",
    "        print(self.lastname,'has the user account of',self.emails)  \n",
    "    "
   ]
  },
  {
   "cell_type": "code",
   "execution_count": 5,
   "id": "d4c74f90",
   "metadata": {},
   "outputs": [],
   "source": [
    "emp1=employee('becky','sanders','beckysanders@axy.com','salad')\n",
    "emp2=employee('john','stone','johnstone@axy.com','lasagna')"
   ]
  },
  {
   "cell_type": "code",
   "execution_count": 6,
   "id": "0808105e",
   "metadata": {},
   "outputs": [
    {
     "name": "stdout",
     "output_type": "stream",
     "text": [
      "becky loves salad\n"
     ]
    }
   ],
   "source": [
    "emp1.diett()"
   ]
  },
  {
   "cell_type": "code",
   "execution_count": 7,
   "id": "c5746185",
   "metadata": {},
   "outputs": [
    {
     "name": "stdout",
     "output_type": "stream",
     "text": [
      "sanders has the user account of beckysanders@axy.com\n"
     ]
    }
   ],
   "source": [
    "emp1.email()"
   ]
  },
  {
   "cell_type": "code",
   "execution_count": 8,
   "id": "5a94b011",
   "metadata": {},
   "outputs": [
    {
     "name": "stdout",
     "output_type": "stream",
     "text": [
      "john loves lasagna\n"
     ]
    }
   ],
   "source": [
    "emp2.diett()"
   ]
  },
  {
   "cell_type": "code",
   "execution_count": 9,
   "id": "3eed497a",
   "metadata": {},
   "outputs": [
    {
     "name": "stdout",
     "output_type": "stream",
     "text": [
      "stone has the user account of johnstone@axy.com\n"
     ]
    }
   ],
   "source": [
    "emp2.email()"
   ]
  },
  {
   "cell_type": "code",
   "execution_count": null,
   "id": "f90b2660",
   "metadata": {},
   "outputs": [],
   "source": []
  },
  {
   "cell_type": "code",
   "execution_count": null,
   "id": "c251597d",
   "metadata": {},
   "outputs": [],
   "source": []
  },
  {
   "cell_type": "code",
   "execution_count": null,
   "id": "cd60601a",
   "metadata": {},
   "outputs": [],
   "source": []
  }
 ],
 "metadata": {
  "kernelspec": {
   "display_name": "Python 3 (ipykernel)",
   "language": "python",
   "name": "python3"
  },
  "language_info": {
   "codemirror_mode": {
    "name": "ipython",
    "version": 3
   },
   "file_extension": ".py",
   "mimetype": "text/x-python",
   "name": "python",
   "nbconvert_exporter": "python",
   "pygments_lexer": "ipython3",
   "version": "3.9.7"
  }
 },
 "nbformat": 4,
 "nbformat_minor": 5
}
