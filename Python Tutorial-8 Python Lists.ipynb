{
 "cells": [
  {
   "cell_type": "code",
   "execution_count": 1,
   "id": "54a8b3c3",
   "metadata": {},
   "outputs": [
    {
     "data": {
      "text/plain": [
       "[2, 3, 4, 6]"
      ]
     },
     "execution_count": 1,
     "metadata": {},
     "output_type": "execute_result"
    }
   ],
   "source": [
    "#define simple list of integers\n",
    "var= [2,3,4,6]\n",
    "var"
   ]
  },
  {
   "cell_type": "code",
   "execution_count": 2,
   "id": "53960bf0",
   "metadata": {},
   "outputs": [
    {
     "data": {
      "text/plain": [
       "[True, False, True]"
      ]
     },
     "execution_count": 2,
     "metadata": {},
     "output_type": "execute_result"
    }
   ],
   "source": [
    "#define simple list of booleans\n",
    "var1= [True,False,True]\n",
    "var1"
   ]
  },
  {
   "cell_type": "code",
   "execution_count": 3,
   "id": "75da2e1b",
   "metadata": {},
   "outputs": [
    {
     "data": {
      "text/plain": [
       "['str', 'ter', 'ett']"
      ]
     },
     "execution_count": 3,
     "metadata": {},
     "output_type": "execute_result"
    }
   ],
   "source": [
    "#define simple list of strings\n",
    "var2= ['str','ter','ett']\n",
    "var2"
   ]
  },
  {
   "cell_type": "code",
   "execution_count": 4,
   "id": "1c69f78e",
   "metadata": {},
   "outputs": [
    {
     "data": {
      "text/plain": [
       "'Airplane'"
      ]
     },
     "execution_count": 4,
     "metadata": {},
     "output_type": "execute_result"
    }
   ],
   "source": [
    "#define simple list of strings\n",
    "#call out by index number\n",
    "air= ['Airplane','Jet','Rocket','Helicopter','Parachute']\n",
    "air[0]"
   ]
  },
  {
   "cell_type": "code",
   "execution_count": 5,
   "id": "0d6a75a4",
   "metadata": {},
   "outputs": [
    {
     "data": {
      "text/plain": [
       "'Parachute'"
      ]
     },
     "execution_count": 5,
     "metadata": {},
     "output_type": "execute_result"
    }
   ],
   "source": [
    "air[4]"
   ]
  },
  {
   "cell_type": "code",
   "execution_count": 6,
   "id": "c4bbf8f7",
   "metadata": {},
   "outputs": [
    {
     "data": {
      "text/plain": [
       "'Helicopter'"
      ]
     },
     "execution_count": 6,
     "metadata": {},
     "output_type": "execute_result"
    }
   ],
   "source": [
    "air[-2]"
   ]
  },
  {
   "cell_type": "code",
   "execution_count": 7,
   "id": "23f591f2",
   "metadata": {},
   "outputs": [
    {
     "data": {
      "text/plain": [
       "'Airplane'"
      ]
     },
     "execution_count": 7,
     "metadata": {},
     "output_type": "execute_result"
    }
   ],
   "source": [
    "air[-5]"
   ]
  },
  {
   "cell_type": "code",
   "execution_count": 10,
   "id": "0ebaa69b",
   "metadata": {},
   "outputs": [
    {
     "data": {
      "text/plain": [
       "['Jet', 'Rocket', 'Helicopter']"
      ]
     },
     "execution_count": 10,
     "metadata": {},
     "output_type": "execute_result"
    }
   ],
   "source": [
    "#call out by range of index number\n",
    "air[1:4]"
   ]
  },
  {
   "cell_type": "code",
   "execution_count": 9,
   "id": "6c7c37f3",
   "metadata": {},
   "outputs": [
    {
     "data": {
      "text/plain": [
       "['Jet', 'Rocket']"
      ]
     },
     "execution_count": 9,
     "metadata": {},
     "output_type": "execute_result"
    }
   ],
   "source": [
    "air[-4:-2]"
   ]
  },
  {
   "cell_type": "code",
   "execution_count": 15,
   "id": "5dd9382b",
   "metadata": {},
   "outputs": [],
   "source": [
    "air= ['Airplane','Jet','Rocket','Helicopter','Parachute']"
   ]
  },
  {
   "cell_type": "code",
   "execution_count": 17,
   "id": "b5a2be0a",
   "metadata": {},
   "outputs": [
    {
     "data": {
      "text/plain": [
       "['Airplane', ['Fighterjet'], 'Rocket', 'Helicopter', 'Parachute']"
      ]
     },
     "execution_count": 17,
     "metadata": {},
     "output_type": "execute_result"
    }
   ],
   "source": [
    "air[1]=['Fighterjet']\n",
    "air"
   ]
  },
  {
   "cell_type": "code",
   "execution_count": 18,
   "id": "1cb6908e",
   "metadata": {},
   "outputs": [
    {
     "data": {
      "text/plain": [
       "['Airplane', 'Fighterjet', 'Rocket', 'Helicopter', 'Parachute']"
      ]
     },
     "execution_count": 18,
     "metadata": {},
     "output_type": "execute_result"
    }
   ],
   "source": [
    "air= ['Airplane','Jet','Rocket','Helicopter','Parachute']\n",
    "air[1:2]=['Fighterjet']\n",
    "air"
   ]
  },
  {
   "cell_type": "code",
   "execution_count": 11,
   "id": "a1b2b445",
   "metadata": {},
   "outputs": [
    {
     "data": {
      "text/plain": [
       "['Airplane', 'Jet', 'Jet', 'Rocket', 'Helicopter', 'Parachute']"
      ]
     },
     "execution_count": 11,
     "metadata": {},
     "output_type": "execute_result"
    }
   ],
   "source": [
    "#insert into list through index number\n",
    "air.insert(1,'Jet')\n",
    "air"
   ]
  },
  {
   "cell_type": "code",
   "execution_count": 20,
   "id": "0dafa596",
   "metadata": {},
   "outputs": [
    {
     "data": {
      "text/plain": [
       "'Fighterjet'"
      ]
     },
     "execution_count": 20,
     "metadata": {},
     "output_type": "execute_result"
    }
   ],
   "source": [
    "air[2]"
   ]
  },
  {
   "cell_type": "code",
   "execution_count": 12,
   "id": "e3004fbf",
   "metadata": {},
   "outputs": [
    {
     "data": {
      "text/plain": [
       "['Airplane', 'Jet', 'Fighterjet', 'Rocket']"
      ]
     },
     "execution_count": 12,
     "metadata": {},
     "output_type": "execute_result"
    }
   ],
   "source": [
    "#another way to create a list\n",
    "var= list(('Airplane', 'Jet', 'Fighterjet', 'Rocket'))\n",
    "var"
   ]
  },
  {
   "cell_type": "code",
   "execution_count": 13,
   "id": "2cc0d6be",
   "metadata": {},
   "outputs": [
    {
     "data": {
      "text/plain": [
       "['Airplane', 'Jet', 'Fighterjet', 'Rocket', 'Parachute']"
      ]
     },
     "execution_count": 13,
     "metadata": {},
     "output_type": "execute_result"
    }
   ],
   "source": [
    "#append to list\n",
    "var.append('Parachute')\n",
    "var"
   ]
  },
  {
   "cell_type": "code",
   "execution_count": 15,
   "id": "ad01d8f0",
   "metadata": {},
   "outputs": [
    {
     "data": {
      "text/plain": [
       "['Airplane', 'Jet', 'Rocket']"
      ]
     },
     "execution_count": 15,
     "metadata": {},
     "output_type": "execute_result"
    }
   ],
   "source": [
    "#remove from list\n",
    "var.remove('Fighterjet')\n",
    "var"
   ]
  },
  {
   "cell_type": "code",
   "execution_count": 16,
   "id": "249e5ac4",
   "metadata": {},
   "outputs": [
    {
     "data": {
      "text/plain": [
       "['Airplane', 'Jet']"
      ]
     },
     "execution_count": 16,
     "metadata": {},
     "output_type": "execute_result"
    }
   ],
   "source": [
    "#remove last item from list\n",
    "var.pop()\n",
    "var"
   ]
  },
  {
   "cell_type": "code",
   "execution_count": 33,
   "id": "5a8e26ef",
   "metadata": {},
   "outputs": [
    {
     "data": {
      "text/plain": [
       "['Airplane']"
      ]
     },
     "execution_count": 33,
     "metadata": {},
     "output_type": "execute_result"
    }
   ],
   "source": [
    "var.pop(1)\n",
    "var"
   ]
  },
  {
   "cell_type": "code",
   "execution_count": 32,
   "id": "46f89a9c",
   "metadata": {},
   "outputs": [
    {
     "data": {
      "text/plain": [
       "['Airplane', 'Jet', 'Fighterjet', 'Rocket']"
      ]
     },
     "execution_count": 32,
     "metadata": {},
     "output_type": "execute_result"
    }
   ],
   "source": [
    "#loop in list\n",
    "\n",
    "var_test= ['Airplane', 'Jet', 'Fighterjet', 'Rocket']\n",
    "var_test"
   ]
  },
  {
   "cell_type": "code",
   "execution_count": 31,
   "id": "632a8bfb",
   "metadata": {},
   "outputs": [
    {
     "name": "stdout",
     "output_type": "stream",
     "text": [
      "Airplane\n",
      "Jet\n",
      "Fighterjet\n",
      "Rocket\n"
     ]
    }
   ],
   "source": [
    "for x in var_test:\n",
    "    print(x)"
   ]
  },
  {
   "cell_type": "code",
   "execution_count": 34,
   "id": "201180a1",
   "metadata": {},
   "outputs": [
    {
     "data": {
      "text/plain": [
       "2"
      ]
     },
     "execution_count": 34,
     "metadata": {},
     "output_type": "execute_result"
    }
   ],
   "source": [
    "tup= ('Airplane', 'Jet', 'Fighterjet', 'Rocket','Airplane')\n",
    "tup.count('Airplane')"
   ]
  }
 ],
 "metadata": {
  "kernelspec": {
   "display_name": "Python 3 (ipykernel)",
   "language": "python",
   "name": "python3"
  },
  "language_info": {
   "codemirror_mode": {
    "name": "ipython",
    "version": 3
   },
   "file_extension": ".py",
   "mimetype": "text/x-python",
   "name": "python",
   "nbconvert_exporter": "python",
   "pygments_lexer": "ipython3",
   "version": "3.9.7"
  }
 },
 "nbformat": 4,
 "nbformat_minor": 5
}
