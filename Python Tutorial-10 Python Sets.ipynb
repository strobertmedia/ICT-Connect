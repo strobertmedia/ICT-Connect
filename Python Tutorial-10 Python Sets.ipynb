{
 "cells": [
  {
   "cell_type": "markdown",
   "id": "7aa822b9",
   "metadata": {},
   "source": [
    "#simple python set\n",
    "var_set= {'Airplane', 'Jet', 'Fighterjet', 'Rocket', 'Parachute'}\n",
    "var_set"
   ]
  },
  {
   "cell_type": "code",
   "execution_count": 2,
   "id": "29f72353",
   "metadata": {},
   "outputs": [
    {
     "data": {
      "text/plain": [
       "{'Airplane', 'Fighterjet', 'Jet', 'Parachute', 'Rocket', 'RocketJet'}"
      ]
     },
     "execution_count": 2,
     "metadata": {},
     "output_type": "execute_result"
    }
   ],
   "source": [
    "var_set.add('RocketJet')\n",
    "var_set"
   ]
  },
  {
   "cell_type": "code",
   "execution_count": 3,
   "id": "edb344bb",
   "metadata": {},
   "outputs": [
    {
     "data": {
      "text/plain": [
       "{'Airplane', 'Fighterjet', 'Jet', 'Parachute', 'Rocket'}"
      ]
     },
     "execution_count": 3,
     "metadata": {},
     "output_type": "execute_result"
    }
   ],
   "source": [
    "#deleting from a set\n",
    "var_set.remove('RocketJet')\n",
    "var_set"
   ]
  },
  {
   "cell_type": "code",
   "execution_count": 4,
   "id": "4097d314",
   "metadata": {},
   "outputs": [
    {
     "data": {
      "text/plain": [
       "{'Airplane', 'Fighterjet', 'Parachute', 'Rocket'}"
      ]
     },
     "execution_count": 4,
     "metadata": {},
     "output_type": "execute_result"
    }
   ],
   "source": [
    "#deleting from a set\n",
    "var_set.discard('Jet')\n",
    "var_set"
   ]
  },
  {
   "cell_type": "code",
   "execution_count": 5,
   "id": "19d666e7",
   "metadata": {},
   "outputs": [
    {
     "data": {
      "text/plain": [
       "'Parachute'"
      ]
     },
     "execution_count": 5,
     "metadata": {},
     "output_type": "execute_result"
    }
   ],
   "source": [
    "var_set.pop()"
   ]
  },
  {
   "cell_type": "code",
   "execution_count": 6,
   "id": "dee73b07",
   "metadata": {},
   "outputs": [
    {
     "data": {
      "text/plain": [
       "{'Airplane', 'Fighterjet', 'Rocket'}"
      ]
     },
     "execution_count": 6,
     "metadata": {},
     "output_type": "execute_result"
    }
   ],
   "source": [
    "var_set"
   ]
  },
  {
   "cell_type": "code",
   "execution_count": null,
   "id": "47d3fe46",
   "metadata": {},
   "outputs": [],
   "source": []
  },
  {
   "cell_type": "code",
   "execution_count": 7,
   "id": "d12fa46f",
   "metadata": {},
   "outputs": [
    {
     "data": {
      "text/plain": [
       "{'Airplane', 'Fighterjet', 'Jet', 'Parachute', 'Rocket'}"
      ]
     },
     "execution_count": 7,
     "metadata": {},
     "output_type": "execute_result"
    }
   ],
   "source": [
    "#difference betwen discard and remove methods\n",
    "var_set= {'Airplane', 'Jet', 'Fighterjet', 'Rocket', 'Parachute'}\n",
    "var_set"
   ]
  },
  {
   "cell_type": "code",
   "execution_count": 8,
   "id": "eb10e98f",
   "metadata": {},
   "outputs": [
    {
     "data": {
      "text/plain": [
       "{'Airplane', 'Fighterjet', 'Jet', 'Parachute', 'Rocket'}"
      ]
     },
     "execution_count": 8,
     "metadata": {},
     "output_type": "execute_result"
    }
   ],
   "source": [
    "#discard would not bring error if text is not in set\n",
    "var_set.discard('anything')\n",
    "var_set"
   ]
  },
  {
   "cell_type": "code",
   "execution_count": 9,
   "id": "1804379c",
   "metadata": {},
   "outputs": [
    {
     "ename": "KeyError",
     "evalue": "'anything'",
     "output_type": "error",
     "traceback": [
      "\u001b[1;31m---------------------------------------------------------------------------\u001b[0m",
      "\u001b[1;31mKeyError\u001b[0m                                  Traceback (most recent call last)",
      "\u001b[1;32m~\\AppData\\Local\\Temp\\1/ipykernel_26244/2090412074.py\u001b[0m in \u001b[0;36m<module>\u001b[1;34m\u001b[0m\n\u001b[1;32m----> 1\u001b[1;33m \u001b[0mvar_set\u001b[0m\u001b[1;33m.\u001b[0m\u001b[0mremove\u001b[0m\u001b[1;33m(\u001b[0m\u001b[1;34m'anything'\u001b[0m\u001b[1;33m)\u001b[0m\u001b[1;33m\u001b[0m\u001b[1;33m\u001b[0m\u001b[0m\n\u001b[0m\u001b[0;32m      2\u001b[0m \u001b[0mvar_set\u001b[0m\u001b[1;33m\u001b[0m\u001b[1;33m\u001b[0m\u001b[0m\n",
      "\u001b[1;31mKeyError\u001b[0m: 'anything'"
     ]
    }
   ],
   "source": [
    "#remove would bring error if text is not in set\n",
    "var_set.remove('anything')\n",
    "var_set"
   ]
  },
  {
   "cell_type": "code",
   "execution_count": 10,
   "id": "afda0213",
   "metadata": {},
   "outputs": [],
   "source": [
    "kids = {\"boy\", \"girl\"}\n",
    "adult = {\"man\", \"woman\"}"
   ]
  },
  {
   "cell_type": "code",
   "execution_count": 11,
   "id": "9ace9183",
   "metadata": {},
   "outputs": [
    {
     "data": {
      "text/plain": [
       "{'boy', 'girl', 'man', 'woman'}"
      ]
     },
     "execution_count": 11,
     "metadata": {},
     "output_type": "execute_result"
    }
   ],
   "source": [
    "#hoin 2 sets\n",
    "kids.update(adult)\n",
    "kids"
   ]
  },
  {
   "cell_type": "code",
   "execution_count": 12,
   "id": "d2926db2",
   "metadata": {},
   "outputs": [
    {
     "data": {
      "text/plain": [
       "{'boy', 'girl', 'man', 'woman'}"
      ]
     },
     "execution_count": 12,
     "metadata": {},
     "output_type": "execute_result"
    }
   ],
   "source": [
    "#adding set to list\n",
    "kids = {\"boy\", \"girl\"}\n",
    "adult = [\"man\", \"woman\"]\n",
    "kids.update(adult)\n",
    "kids"
   ]
  },
  {
   "cell_type": "code",
   "execution_count": 13,
   "id": "af032fce",
   "metadata": {},
   "outputs": [
    {
     "name": "stdout",
     "output_type": "stream",
     "text": [
      "Parachute\n",
      "Jet\n",
      "Fighterjet\n",
      "Rocket\n",
      "Airplane\n"
     ]
    }
   ],
   "source": [
    "var_set= {'Airplane', 'Jet', 'Fighterjet', 'Rocket', 'Parachute'}\n",
    "\n",
    "for x in var_set:\n",
    "    print(x)"
   ]
  },
  {
   "cell_type": "code",
   "execution_count": null,
   "id": "4700cc42",
   "metadata": {},
   "outputs": [],
   "source": []
  },
  {
   "cell_type": "code",
   "execution_count": null,
   "id": "2ab28a3a",
   "metadata": {},
   "outputs": [],
   "source": []
  },
  {
   "cell_type": "code",
   "execution_count": null,
   "id": "422abe23",
   "metadata": {},
   "outputs": [],
   "source": []
  },
  {
   "cell_type": "code",
   "execution_count": null,
   "id": "f1687a85",
   "metadata": {},
   "outputs": [],
   "source": []
  },
  {
   "cell_type": "code",
   "execution_count": null,
   "id": "20998459",
   "metadata": {},
   "outputs": [],
   "source": []
  },
  {
   "cell_type": "code",
   "execution_count": null,
   "id": "bc6a7838",
   "metadata": {},
   "outputs": [],
   "source": []
  },
  {
   "cell_type": "code",
   "execution_count": null,
   "id": "3c85e360",
   "metadata": {},
   "outputs": [],
   "source": []
  }
 ],
 "metadata": {
  "kernelspec": {
   "display_name": "Python 3 (ipykernel)",
   "language": "python",
   "name": "python3"
  },
  "language_info": {
   "codemirror_mode": {
    "name": "ipython",
    "version": 3
   },
   "file_extension": ".py",
   "mimetype": "text/x-python",
   "name": "python",
   "nbconvert_exporter": "python",
   "pygments_lexer": "ipython3",
   "version": "3.9.7"
  }
 },
 "nbformat": 4,
 "nbformat_minor": 5
}
