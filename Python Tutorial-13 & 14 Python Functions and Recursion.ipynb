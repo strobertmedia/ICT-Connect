{
 "cells": [
  {
   "cell_type": "code",
   "execution_count": 11,
   "id": "fb7ebeec",
   "metadata": {},
   "outputs": [],
   "source": [
    "#define a basic function\n",
    "def my_function():\n",
    "    print('A simple block of code')"
   ]
  },
  {
   "cell_type": "code",
   "execution_count": 12,
   "id": "f52944e5",
   "metadata": {},
   "outputs": [
    {
     "name": "stdout",
     "output_type": "stream",
     "text": [
      "A simple block of code\n"
     ]
    }
   ],
   "source": [
    "#call the function\n",
    "my_function()"
   ]
  },
  {
   "cell_type": "code",
   "execution_count": 13,
   "id": "5c354662",
   "metadata": {},
   "outputs": [],
   "source": [
    "#parameters and arguments \n",
    "def test_fu(parameters):\n",
    "    print('This is',parameters)"
   ]
  },
  {
   "cell_type": "code",
   "execution_count": 15,
   "id": "a823d3a7",
   "metadata": {},
   "outputs": [
    {
     "name": "stdout",
     "output_type": "stream",
     "text": [
      "This is argument\n"
     ]
    }
   ],
   "source": [
    "test_fu('argument')"
   ]
  },
  {
   "cell_type": "code",
   "execution_count": 16,
   "id": "9ffc5e45",
   "metadata": {},
   "outputs": [
    {
     "name": "stdout",
     "output_type": "stream",
     "text": [
      "Examples- Argument1\n",
      "Examples- Argument2\n",
      "Examples- Argument3\n"
     ]
    }
   ],
   "source": [
    "def my_function(Parameters):\n",
    "  print(\"Examples- \" + Parameters)\n",
    "\n",
    "my_function(\"Argument1\")\n",
    "my_function(\"Argument2\")\n",
    "my_function(\"Argument3\")"
   ]
  },
  {
   "cell_type": "code",
   "execution_count": 19,
   "id": "c0e7a8ef",
   "metadata": {},
   "outputs": [],
   "source": [
    "#functions should not be empty\n",
    "\n",
    "def myfunction():\n",
    "    pass"
   ]
  },
  {
   "cell_type": "code",
   "execution_count": 20,
   "id": "1f7feb29",
   "metadata": {},
   "outputs": [
    {
     "name": "stdout",
     "output_type": "stream",
     "text": [
      "20\n",
      "40\n",
      "70\n"
     ]
    }
   ],
   "source": [
    "#basic maths using return\n",
    "\n",
    "def my_function(x):\n",
    "  return 10 * x\n",
    "\n",
    "print(my_function(2))\n",
    "print(my_function(4))\n",
    "print(my_function(7))"
   ]
  },
  {
   "cell_type": "code",
   "execution_count": 21,
   "id": "18070cb5",
   "metadata": {},
   "outputs": [
    {
     "name": "stdout",
     "output_type": "stream",
     "text": [
      "David is a student.\n",
      "Samuel is a student.\n",
      "Jenny is a student.\n"
     ]
    }
   ],
   "source": [
    "#Passing a List as an Argument\n",
    "\n",
    "def my_function(records):\n",
    "  for x in records:\n",
    "    print(x, \"is a student.\")\n",
    "\n",
    "students = [\"David\", \"Samuel\", \"Jenny\"]\n",
    "\n",
    "my_function(students)"
   ]
  },
  {
   "cell_type": "code",
   "execution_count": 26,
   "id": "1bea8321",
   "metadata": {},
   "outputs": [
    {
     "name": "stdout",
     "output_type": "stream",
     "text": [
      "This is America\n"
     ]
    }
   ],
   "source": [
    "#Arbitrary parameters\n",
    "def test_fu(par0,par1,par2):\n",
    "    print('This is',par1)\n",
    "    \n",
    "    \n",
    "test_fu(par2='America',par1='Dubai',par0='China')\n"
   ]
  },
  {
   "cell_type": "code",
   "execution_count": 29,
   "id": "ee3fac35",
   "metadata": {},
   "outputs": [
    {
     "name": "stdout",
     "output_type": "stream",
     "text": [
      "This is China\n"
     ]
    }
   ],
   "source": [
    "#keyword Arguments\n",
    "def test_fu(par0,par1,par2):\n",
    "    print('This is',par0)\n",
    "    \n",
    "    \n",
    "test_fu(par2='America',par1='Dubai',par0='China')\n"
   ]
  },
  {
   "cell_type": "code",
   "execution_count": 34,
   "id": "d8a20dea",
   "metadata": {},
   "outputs": [
    {
     "name": "stdout",
     "output_type": "stream",
     "text": [
      "This is China\n"
     ]
    }
   ],
   "source": [
    "#keyword Arbitrary Arguments\n",
    "def test_fu(**par):\n",
    "    print('This is',par['par0'])\n",
    "    \n",
    "    \n",
    "test_fu(par2='America',par1='Dubai',par0='China')\n"
   ]
  },
  {
   "cell_type": "code",
   "execution_count": null,
   "id": "7de2e8d7",
   "metadata": {},
   "outputs": [],
   "source": []
  },
  {
   "cell_type": "code",
   "execution_count": 95,
   "id": "acae4681",
   "metadata": {},
   "outputs": [
    {
     "name": "stdout",
     "output_type": "stream",
     "text": [
      "5\n",
      "4\n",
      "3\n",
      "2\n",
      "1\n",
      "0\n",
      "End of recursion\n"
     ]
    }
   ],
   "source": [
    "#recursion functions\n",
    "def recur(n):\n",
    "    print(n)\n",
    "    if n==0:\n",
    "        print('End of recursion')\n",
    "        return 0\n",
    "    elif n>0:\n",
    "        recur(n-1)\n",
    "        \n",
    "recur(5)"
   ]
  },
  {
   "cell_type": "code",
   "execution_count": 96,
   "id": "70b5aa62",
   "metadata": {},
   "outputs": [
    {
     "name": "stdout",
     "output_type": "stream",
     "text": [
      "End of recursion\n",
      "1\n",
      "2\n",
      "3\n",
      "4\n",
      "5\n"
     ]
    }
   ],
   "source": [
    "def recur(n):\n",
    "    \n",
    "    if n==0:\n",
    "        print('End of recursion')\n",
    "        return 0\n",
    "    elif n>0:\n",
    "        recur(n-1)\n",
    "        print(n)\n",
    "        \n",
    "recur(5)"
   ]
  },
  {
   "cell_type": "code",
   "execution_count": 97,
   "id": "2ba335b5",
   "metadata": {},
   "outputs": [
    {
     "name": "stdout",
     "output_type": "stream",
     "text": [
      "5\n",
      "4\n",
      "3\n",
      "2\n",
      "1\n",
      "End of recursion\n"
     ]
    }
   ],
   "source": [
    "def recur(n):\n",
    "    \n",
    "    if n==0:\n",
    "        print('End of recursion')\n",
    "        return 0\n",
    "    elif n>0:\n",
    "        print(n)\n",
    "        recur(n-1)\n",
    "        \n",
    "        \n",
    "recur(5)"
   ]
  },
  {
   "cell_type": "code",
   "execution_count": 100,
   "id": "cb67a5bc",
   "metadata": {},
   "outputs": [
    {
     "name": "stdout",
     "output_type": "stream",
     "text": [
      "end of loop\n",
      "[0, 1, 1, 2, 3, 5, 8, 13, 21, 34, 55, 89, 144, 233, 377, 610]\n"
     ]
    }
   ],
   "source": [
    "#fibonacci series with loop\n",
    "\n",
    "lis=[0,1]\n",
    "\n",
    "while len(lis) <=15:\n",
    "    x= lis[len(lis)-2] + lis[len(lis)-1]\n",
    "    lis.append(x)\n",
    "else:\n",
    "    print('end of loop')\n",
    "    print(lis)\n",
    "    "
   ]
  },
  {
   "cell_type": "code",
   "execution_count": 102,
   "id": "3b34530a",
   "metadata": {},
   "outputs": [
    {
     "name": "stdout",
     "output_type": "stream",
     "text": [
      "[0, 1, 1, 2, 3, 5, 8, 13, 21, 34, 55, 89, 144, 233, 377, 610]\n"
     ]
    }
   ],
   "source": [
    "#fibonacci series with recursion\n",
    "\n",
    "lis=[0,1]\n",
    "\n",
    "def recur(x):\n",
    "    if len(lis)<=15:\n",
    "        lis.append(lis[len(lis)-2] + lis[len(lis)-1])\n",
    "        recur(x-1)\n",
    "    else:\n",
    "        print(lis)\n",
    "        \n",
    "recur(5)"
   ]
  },
  {
   "cell_type": "code",
   "execution_count": 103,
   "id": "069d7235",
   "metadata": {},
   "outputs": [
    {
     "data": {
      "text/plain": [
       "6"
      ]
     },
     "execution_count": 103,
     "metadata": {},
     "output_type": "execute_result"
    }
   ],
   "source": [
    "#factorial of 3\n",
    "3*2*1"
   ]
  },
  {
   "cell_type": "code",
   "execution_count": 110,
   "id": "b59be35b",
   "metadata": {},
   "outputs": [
    {
     "data": {
      "text/plain": [
       "48119977967797748601669900935813797818348080406726138081308559411630575189001095591292230585206733851868464009619343585194052091124618166270271481881393331431627962810299844149333789044689395510487167879769325303699470467829234399263326545652860748605075746366928323606645492277541120083438086727369377887676000211405318480244354207419604864176969950581435222198851194568984095705945549589054568321792338919149442985919957734792959402499096845643020401869381175603964424333222114125974374817804242633309769804293952870034619354125014210045647664063240162007560108665290568646128342557147350985358724154623253371867470765120422073867963935775258692109753041762094343569050497470353531764481503174750911858230906998361066084787758316110585736013365377431860738572261325738233656835271947352695180865573043834027955539012765489372645042504406597752357481931532872356635411224578334040522294746402829585458478708778346379431862368824819009177091444034885941394319343910223168655869761799669075059527608502465593181398566214786801211651657222004123456498258513120359126022843038535083709796101565934859483203933443308601475813108363074118562404412420191947127585482919172173045961122122701434297870691932154082986945954748251105782181586397275820342101470457300633590139512919549474113721711616912519714191760699935509810254849967087635936181176363954224186031346682928878492872249485456690138831610135377916327940503701400290125509132140782614640495733518048670983360134097860364762638658894873174499870133559364805443430831459505987809215393353387232078177562975021460595422358573128085417162336030235138652735438053034531962620811566019896879275257163988352090874930346115518331202927263708446729394381879888839549731876978682249320628599631628662375508826209854754631984276392670919216923002770077734756077549035942976209159416211581439461484509549370357486770276807687544580164314647595031368948490282897173328013518435758700056425922638411889496527975846052717958044813737086806600171993703579485864029383208714528950303253881360812631162134750100307772634337467012820470715650810714689905121432259528505483053930402217400686061612471659630192434864094539828085677465383026128353771071152304197549798870706139893609140045659756285435787771636258253666592102151236142132724425850991205720020493660580896600891888594659612927724357866265934517615841298789154462249169688860092640284756382431746120357767933119589280468687348061788072986362788582227019465263474828590646048451070702923434422714349595857654843699542321849363652767771978314681013589442955219879702008068934096624650625769705233333462826013860098698155180331145365652453482955497979915586438474687345677874451117702250441711504844638414485210092261397271970571029038581873069951161330495772310508760528249706514238384269808639507080418298318311361373628512041716415196868334254119137139589149597210032153545941114666530498906529240798164804007394775927836045668573993316428972539932745757171947402454257142633700815922407278403640595355142075599446056337986717212316223257763412164180899532722039383244462511410346646148863397237096276822656157561194665545757017429842404840309758925618650507921043007241637877939825811059339138925526124514467627126548126795078784022672860886251974581362141782786407402896309678008909663263987018538107050886193489012497405005820727271232733728141775132722013860591169620692789290456794698409808557447756701311883266010859016027592252397754508251628808293537776536569608111330584797160694847898923196743970244451842702266403326317319092117151143971679500042590269255093130215984418097418435474300467281949798227102529873732749027992079700287275900856241172902880909546551703263202853584498085358955307673717177961902081098618729046348849060249600000000000000000000000000000000000000000000000000000000000000000000000000000000000000000000000000000000000000000000000000000000000000000000000000000000000000000000000000000000000000000000000000000000000000000000000000000000000000000000000000000000000000000000000000000000000000000000000000000000000000000000000000000000000000000000000000000000000000000000000000000000000000"
      ]
     },
     "execution_count": 110,
     "metadata": {},
     "output_type": "execute_result"
    }
   ],
   "source": [
    "def factorial(x):\n",
    "    if x==1:\n",
    "        return 1\n",
    "    return (x * factorial(x-1))\n",
    "\n",
    "factorial(1500)"
   ]
  },
  {
   "cell_type": "code",
   "execution_count": null,
   "id": "a8da2d46",
   "metadata": {},
   "outputs": [],
   "source": [
    "4* factorial(4-1)"
   ]
  },
  {
   "cell_type": "code",
   "execution_count": null,
   "id": "ab6054f4",
   "metadata": {},
   "outputs": [],
   "source": [
    "4* 3*factorial(3-1)"
   ]
  },
  {
   "cell_type": "code",
   "execution_count": null,
   "id": "15235f0c",
   "metadata": {},
   "outputs": [],
   "source": [
    "4*3*2*factorial(2-1)"
   ]
  },
  {
   "cell_type": "code",
   "execution_count": 104,
   "id": "646e900e",
   "metadata": {},
   "outputs": [
    {
     "data": {
      "text/plain": [
       "24"
      ]
     },
     "execution_count": 104,
     "metadata": {},
     "output_type": "execute_result"
    }
   ],
   "source": [
    "4*3*2*1"
   ]
  },
  {
   "cell_type": "code",
   "execution_count": 106,
   "id": "00b8047f",
   "metadata": {},
   "outputs": [
    {
     "data": {
      "text/plain": [
       "1000"
      ]
     },
     "execution_count": 106,
     "metadata": {},
     "output_type": "execute_result"
    }
   ],
   "source": [
    "from sys import getrecursionlimit\n",
    "\n",
    "getrecursionlimit()"
   ]
  },
  {
   "cell_type": "code",
   "execution_count": 109,
   "id": "8c89fa92",
   "metadata": {},
   "outputs": [
    {
     "data": {
      "text/plain": [
       "2000"
      ]
     },
     "execution_count": 109,
     "metadata": {},
     "output_type": "execute_result"
    }
   ],
   "source": [
    "from sys import setrecursionlimit\n",
    "\n",
    "setrecursionlimit(2000)\n",
    "getrecursionlimit()"
   ]
  },
  {
   "cell_type": "code",
   "execution_count": null,
   "id": "7f251faa",
   "metadata": {},
   "outputs": [],
   "source": []
  },
  {
   "cell_type": "code",
   "execution_count": null,
   "id": "8a3dd1bb",
   "metadata": {},
   "outputs": [],
   "source": []
  },
  {
   "cell_type": "code",
   "execution_count": null,
   "id": "de3c32f2",
   "metadata": {},
   "outputs": [],
   "source": []
  },
  {
   "cell_type": "code",
   "execution_count": 19,
   "id": "fd258bd2",
   "metadata": {},
   "outputs": [
    {
     "name": "stdout",
     "output_type": "stream",
     "text": [
      "Examples- Argument1\n",
      "Examples- Argument2\n",
      "Examples- Argument3\n"
     ]
    }
   ],
   "source": [
    "#format for functions\n",
    "\n",
    "def my_function(Parameters):\n",
    "  print(\"Examples- \" + Parameters)\n",
    "\n",
    "my_function(\"Argument1\")\n",
    "my_function(\"Argument2\")\n",
    "my_function(\"Argument3\")"
   ]
  },
  {
   "cell_type": "code",
   "execution_count": null,
   "id": "ec0b07d2",
   "metadata": {},
   "outputs": [],
   "source": [
    "#functions should not be empty\n",
    "\n",
    "def myfunction():\n",
    "  pass"
   ]
  },
  {
   "cell_type": "code",
   "execution_count": 12,
   "id": "35715524",
   "metadata": {},
   "outputs": [
    {
     "name": "stdout",
     "output_type": "stream",
     "text": [
      "20\n",
      "40\n",
      "70\n"
     ]
    }
   ],
   "source": [
    "#basic maths using return\n",
    "\n",
    "def my_function(x):\n",
    "  return 10 * x\n",
    "\n",
    "print(my_function(2))\n",
    "print(my_function(4))\n",
    "print(my_function(7))"
   ]
  },
  {
   "cell_type": "code",
   "execution_count": 6,
   "id": "5e85b0c7",
   "metadata": {},
   "outputs": [
    {
     "name": "stdout",
     "output_type": "stream",
     "text": [
      "Enter your Winner | Input Provided: 2\n",
      "The Winner is  Emma2\n"
     ]
    }
   ],
   "source": [
    "#Arbitrary Arguments, *args\n",
    "def tes_var(*tup):\n",
    "    win_number= input('Enter your Winner | Input Provided: ')\n",
    "    print('The Winner is ',tup[int(win_number)])\n",
    "    \n",
    "tes_var('Emma0','Emma1','Emma2','Emma3')"
   ]
  },
  {
   "cell_type": "code",
   "execution_count": 2,
   "id": "fe550925",
   "metadata": {},
   "outputs": [
    {
     "name": "stdout",
     "output_type": "stream",
     "text": [
      "The Winner is  Emma1\n"
     ]
    }
   ],
   "source": [
    "#Key Word Arguments\n",
    "\n",
    "def tes_var(name3,name2,name1,name0):\n",
    "    print('The Winner is ',name1)\n",
    "    \n",
    "tes_var(name0='Emma0', name1='Emma1', name2='Emma2', name3='Emma3')"
   ]
  },
  {
   "cell_type": "code",
   "execution_count": 7,
   "id": "53dc5b27",
   "metadata": {},
   "outputs": [
    {
     "name": "stdout",
     "output_type": "stream",
     "text": [
      "The Winner is Emma1\n"
     ]
    }
   ],
   "source": [
    "#Arbitrary Key Word Arguments\n",
    "\n",
    "def tes_var(**name):\n",
    "    print('The Winner is',name['name1'])\n",
    "    \n",
    "tes_var(name0='Emma0', name1='Emma1', name2='Emma2', name3='Emma3')"
   ]
  },
  {
   "cell_type": "code",
   "execution_count": 7,
   "id": "6a811504",
   "metadata": {},
   "outputs": [
    {
     "name": "stdout",
     "output_type": "stream",
     "text": [
      "I love to Dance\n",
      "I love to Sleep\n",
      "I love to Bowling\n",
      "I love to Read\n"
     ]
    }
   ],
   "source": [
    "#Defaut function value\n",
    "\n",
    "def my_function(Hobby = \"Read\"):\n",
    "  print(\"I love to \" + Hobby)\n",
    "\n",
    "my_function(\"Dance\")\n",
    "my_function(\"Sleep\")\n",
    "my_function(\"Bowling\")\n",
    "my_function()"
   ]
  },
  {
   "cell_type": "code",
   "execution_count": 11,
   "id": "425fa75a",
   "metadata": {},
   "outputs": [
    {
     "name": "stdout",
     "output_type": "stream",
     "text": [
      "David is a student.\n",
      "Samuel is a student.\n",
      "Jenny is a student.\n"
     ]
    }
   ],
   "source": [
    "#Passing a List as an Argument\n",
    "\n",
    "def my_function(records):\n",
    "  for x in records:\n",
    "    print(x, \"is a student.\")\n",
    "\n",
    "students = [\"David\", \"Samuel\", \"Jenny\"]\n",
    "\n",
    "my_function(students)"
   ]
  },
  {
   "cell_type": "code",
   "execution_count": 18,
   "id": "86a0f21b",
   "metadata": {},
   "outputs": [
    {
     "name": "stdout",
     "output_type": "stream",
     "text": [
      "\n",
      "\n",
      "Recursion Example Results\n",
      "1 - 1\n",
      "3 - 2\n",
      "6 - 3\n",
      "10 - 4\n",
      "15 - 5\n",
      "21 - 6\n"
     ]
    },
    {
     "data": {
      "text/plain": [
       "21"
      ]
     },
     "execution_count": 18,
     "metadata": {},
     "output_type": "execute_result"
    }
   ],
   "source": [
    "#Recursions in function\n",
    "\n",
    "def tri_recursion(k):\n",
    "  if(k > 0):\n",
    "    result = k + tri_recursion(k - 1)\n",
    "    print(result,\"-\",k)\n",
    "  else:\n",
    "    result = 0\n",
    "  return result\n",
    "\n",
    "print(\"\\n\\nRecursion Example Results\")\n",
    "tri_recursion(6)"
   ]
  },
  {
   "cell_type": "code",
   "execution_count": null,
   "id": "6086dfa4",
   "metadata": {},
   "outputs": [],
   "source": [
    "6+ "
   ]
  },
  {
   "cell_type": "code",
   "execution_count": null,
   "id": "b1261ed5",
   "metadata": {},
   "outputs": [],
   "source": []
  },
  {
   "cell_type": "code",
   "execution_count": null,
   "id": "7e8f2a53",
   "metadata": {},
   "outputs": [],
   "source": []
  }
 ],
 "metadata": {
  "kernelspec": {
   "display_name": "Python 3 (ipykernel)",
   "language": "python",
   "name": "python3"
  },
  "language_info": {
   "codemirror_mode": {
    "name": "ipython",
    "version": 3
   },
   "file_extension": ".py",
   "mimetype": "text/x-python",
   "name": "python",
   "nbconvert_exporter": "python",
   "pygments_lexer": "ipython3",
   "version": "3.9.7"
  }
 },
 "nbformat": 4,
 "nbformat_minor": 5
}
