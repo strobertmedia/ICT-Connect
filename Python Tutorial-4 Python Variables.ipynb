
{
 "cells": [
  {
   "cell_type": "code",
   "execution_count": null,
   "id": "72ec6684",
   "metadata": {},
   "outputs": [],
   "source": [
    "#creating a basic variable b\n",
    "b= \"Emmanuel\""
   ]
  },
  {
   "cell_type": "code",
   "execution_count": null,
   "id": "9623628f",
   "metadata": {},
   "outputs": [],
   "source": [
    "b"
   ]
  },
  {
   "cell_type": "code",
   "execution_count": null,
   "id": "7b2c88f2",
   "metadata": {},
   "outputs": [],
   "source": [
    "#examples functions can be created \n",
    "testvariable = \"Emmanuel1\"\n",
    "test_variable = \"Emmanuel2\"\n",
    "_test_variable = \"Emmanuel3\"\n",
    "testVariable = \"Emmanuel4\"\n",
    "TESTVARIABLE = \"Emmanuel5\"\n",
    "testvariable2 = \"Emmanuel6\"\n"
   ]
  },
  {
   "cell_type": "code",
   "execution_count": null,
   "id": "86ebab8e",
   "metadata": {},
   "outputs": [],
   "source": [
    "testvariable2"
   ]
  },
  {
   "cell_type": "code",
   "execution_count": null,
   "id": "d05e2a4f",
   "metadata": {},
   "outputs": [],
   "source": [
    "print(testvariable)\n",
    "print(test_variable)\n",
    "print(_test_variable) \n",
    "print(testVariable)\n",
    "print(TESTVARIABLE)\n",
    "print(testvariable2)\n"
   ]
  },
  {
   "cell_type": "code",
   "execution_count": null,
   "id": "1310a5a6",
   "metadata": {},
   "outputs": [],
   "source": [
    "2variable= 'Emmanuel'"
   ]
  },
  {
   "cell_type": "code",
   "execution_count": null,
   "id": "71e9dc54",
   "metadata": {},
   "outputs": [],
   "source": [
    "#assign multiple variables\n",
    "\n",
    "x=2\n",
    "y=3\n",
    "z=4"
   ]
  },
  {
   "cell_type": "code",
   "execution_count": null,
   "id": "43e6e319",
   "metadata": {},
   "outputs": [],
   "source": [
    "x,y,z"
   ]
  },
  {
   "cell_type": "code",
   "execution_count": null,
   "id": "f13b6d29",
   "metadata": {},
   "outputs": [],
   "source": [
    "x,y,z= 10,20,30"
   ]
  },
  {
   "cell_type": "code",
   "execution_count": null,
   "id": "d7f06d0b",
   "metadata": {},
   "outputs": [],
   "source": [
    "x,y,z"
   ]
  },
  {
   "cell_type": "code",
   "execution_count": null,
   "id": "f0d5352a",
   "metadata": {},
   "outputs": [],
   "source": [
    "#One Value to Multiple Variables\n",
    "\n",
    "\n",
    "x=y=z='Number'"
   ]
  },
  {
   "cell_type": "code",
   "execution_count": null,
   "id": "2d51ffbd",
   "metadata": {},
   "outputs": [],
   "source": [
    "z"
   ]
  },
  {
   "cell_type": "code",
   "execution_count": null,
   "id": "254d363c",
   "metadata": {},
   "outputs": [],
   "source": [
    "y"
   ]
  },
  {
   "cell_type": "code",
   "execution_count": null,
   "id": "f559911e",
   "metadata": {},
   "outputs": [],
   "source": [
    "x"
   ]
  },
  {
   "cell_type": "code",
   "execution_count": null,
   "id": "d93463d7",
   "metadata": {},
   "outputs": [],
   "source": [
    "#unpack a selection of variables\n",
    "\n",
    "\n",
    "fruits = [\"apple\", \"banana\", \"cherry\"]\n",
    "x, y, z = fruits\n",
    "print(x)\n",
    "print(y)\n",
    "print(z)"
   ]
  },
  {
   "cell_type": "code",
   "execution_count": null,
   "id": "868ed43c",
   "metadata": {},
   "outputs": [],
   "source": []
  }
 ],
 "metadata": {
  "kernelspec": {
   "display_name": "Python 3 (ipykernel)",
   "language": "python",
   "name": "python3"
  },
  "language_info": {
   "codemirror_mode": {
    "name": "ipython",
    "version": 3
   },
   "file_extension": ".py",
   "mimetype": "text/x-python",
   "name": "python",
   "nbconvert_exporter": "python",
   "pygments_lexer": "ipython3",
   "version": "3.9.7"
  }
 },
 "nbformat": 4,
 "nbformat_minor": 5
}
