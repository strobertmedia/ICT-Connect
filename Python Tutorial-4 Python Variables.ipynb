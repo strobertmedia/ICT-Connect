{
 "cells": [
  {
   "cell_type": "markdown",
   "id": "4c859df8",
   "metadata": {},
   "source": [
    "#creating a basic variable b\n",
    "b= \"Emmanuel\""
   ]
  },
  {
   "cell_type": "markdown",
   "id": "306c7b04",
   "metadata": {},
   "source": [
    "b"
   ]
  },
  {
   "cell_type": "markdown",
   "id": "776f48e1",
   "metadata": {},
   "source": [
    "testvariable = \"Emmanuel1\"\n",
    "test_variable = \"Emmanuel2\"\n",
    "_test_variable = \"Emmanuel3\"\n",
    "testVariable = \"Emmanuel4\"\n",
    "TESTVARIABLE = \"Emmanuel5\"\n",
    "testvariable2 = \"Emmanuel6\"\n"
   ]
  },
  {
   "cell_type": "markdown",
   "id": "e76e8667",
   "metadata": {},
   "source": [
    "testvariable2"
   ]
  },
  {
   "cell_type": "markdown",
   "id": "e9b355fc",
   "metadata": {},
   "source": [
    "print(testvariable)\n",
    "print(test_variable)\n",
    "print(_test_variable) \n",
    "print(testVariable)\n",
    "print(TESTVARIABLE)\n",
    "print(testvariable2)\n"
   ]
  },
  {
   "cell_type": "markdown",
   "id": "fbfd7932",
   "metadata": {},
   "source": [
    "2variable= 'Emmanuel'"
   ]
  },
  {
   "cell_type": "markdown",
   "id": "b793fdfa",
   "metadata": {},
   "source": [
    "#assign multiple variables\n",
    "\n",
    "x=2\n",
    "y=3\n",
    "z=4"
   ]
  },
  {
   "cell_type": "markdown",
   "id": "731b3a61",
   "metadata": {},
   "source": [
    "x,y,z"
   ]
  },
  {
   "cell_type": "markdown",
   "id": "04c77372",
   "metadata": {},
   "source": [
    "x,y,z= 10,20,30"
   ]
  },
  {
   "cell_type": "markdown",
   "id": "227cc309",
   "metadata": {},
   "source": [
    "x,y,z"
   ]
  },
  {
   "cell_type": "markdown",
   "id": "aa0b4d61",
   "metadata": {},
   "source": [
    "#One Value to Multiple Variables\n",
    "\n",
    "\n",
    "x=y=z='Number'"
   ]
  },
  {
   "cell_type": "markdown",
   "id": "bb572211",
   "metadata": {},
   "source": [
    "z"
   ]
  },
  {
   "cell_type": "markdown",
   "id": "804d99ca",
   "metadata": {},
   "source": [
    "y"
   ]
  },
  {
   "cell_type": "markdown",
   "id": "fc60e585",
   "metadata": {},
   "source": [
    "x"
   ]
  },
  {
   "cell_type": "markdown",
   "id": "91fa469e",
   "metadata": {},
   "source": [
    "#unpack a selection of variables\n",
    "\n",
    "\n",
    "fruits = [\"apple\", \"banana\", \"cherry\"]\n",
    "x, y, z = fruits\n",
    "print(x)\n",
    "print(y)\n",
    "print(z)"
   ]
  },
  {
   "cell_type": "markdown",
   "id": "5f99271f",
   "metadata": {},
   "source": []
  }
 ],
 "metadata": {
  "kernelspec": {
   "display_name": "Python 3 (ipykernel)",
   "language": "python",
   "name": "python3"
  },
  "language_info": {
   "codemirror_mode": {
    "name": "ipython",
    "version": 3
   },
   "file_extension": ".py",
   "mimetype": "text/x-python",
   "name": "python",
   "nbconvert_exporter": "python",
   "pygments_lexer": "ipython3",
   "version": "3.9.7"
  }
 },
 "nbformat": 4,
 "nbformat_minor": 5
}
