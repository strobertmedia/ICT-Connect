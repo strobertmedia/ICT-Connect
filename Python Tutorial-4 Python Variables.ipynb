{
 "cells": [
  {
   "cell_type": "code",
   "execution_count": null,
   "id": "fb361820",
   "metadata": {},
   "outputs": [],
   "source": [
    "#creating a basic variable b\n",
    "b= \"Emmanuel\""
   ]
  },
  {
   "cell_type": "code",
   "execution_count": null,
   "id": "f4c5511b",
   "metadata": {},
   "outputs": [],
   "source": [
    "b"
   ]
  },
  {
   "cell_type": "code",
   "execution_count": null,
   "id": "92e3782f",
   "metadata": {},
   "outputs": [],
   "source": [
    "testvariable = \"Emmanuel1\"\n",
    "test_variable = \"Emmanuel2\"\n",
    "_test_variable = \"Emmanuel3\"\n",
    "testVariable = \"Emmanuel4\"\n",
    "TESTVARIABLE = \"Emmanuel5\"\n",
    "testvariable2 = \"Emmanuel6\"\n"
   ]
  },
  {
   "cell_type": "code",
   "execution_count": null,
   "id": "56dac2c3",
   "metadata": {},
   "outputs": [],
   "source": [
    "testvariable2"
   ]
  },
  {
   "cell_type": "code",
   "execution_count": null,
   "id": "10d323b5",
   "metadata": {},
   "outputs": [],
   "source": [
    "print(testvariable)\n",
    "print(test_variable)\n",
    "print(_test_variable) \n",
    "print(testVariable)\n",
    "print(TESTVARIABLE)\n",
    "print(testvariable2)\n"
   ]
  },
  {
   "cell_type": "code",
   "execution_count": null,
   "id": "bbdd5d8b",
   "metadata": {},
   "outputs": [],
   "source": [
    "2variable= 'Emmanuel'"
   ]
  },
  {
   "cell_type": "code",
   "execution_count": null,
   "id": "f531f935",
   "metadata": {},
   "outputs": [],
   "source": [
    "#assign multiple variables\n",
    "\n",
    "x=2\n",
    "y=3\n",
    "z=4"
   ]
  },
  {
   "cell_type": "code",
   "execution_count": null,
   "id": "4143bbad",
   "metadata": {},
   "outputs": [],
   "source": [
    "x,y,z"
   ]
  },
  {
   "cell_type": "code",
   "execution_count": null,
   "id": "acfb8c01",
   "metadata": {},
   "outputs": [],
   "source": [
    "x,y,z= 10,20,30"
   ]
  },
  {
   "cell_type": "code",
   "execution_count": null,
   "id": "7c89ec77",
   "metadata": {},
   "outputs": [],
   "source": [
    "x,y,z"
   ]
  },
  {
   "cell_type": "code",
   "execution_count": null,
   "id": "e3e3f914",
   "metadata": {},
   "outputs": [],
   "source": [
    "#One Value to Multiple Variables\n",
    "\n",
    "\n",
    "x=y=z='Number'"
   ]
  },
  {
   "cell_type": "code",
   "execution_count": null,
   "id": "de815a7a",
   "metadata": {},
   "outputs": [],
   "source": [
    "z"
   ]
  },
  {
   "cell_type": "code",
   "execution_count": null,
   "id": "e445c4a0",
   "metadata": {},
   "outputs": [],
   "source": [
    "y"
   ]
  },
  {
   "cell_type": "code",
   "execution_count": null,
   "id": "787761a5",
   "metadata": {},
   "outputs": [],
   "source": [
    "x"
   ]
  },
  {
   "cell_type": "code",
   "execution_count": null,
   "id": "fb43a314",
   "metadata": {},
   "outputs": [],
   "source": [
    "#unpack a selection of variables\n",
    "\n",
    "\n",
    "fruits = [\"apple\", \"banana\", \"cherry\"]\n",
    "x, y, z = fruits\n",
    "print(x)\n",
    "print(y)\n",
    "print(z)"
   ]
  },
  {
   "cell_type": "code",
   "execution_count": null,
   "id": "6e4fbd4b",
   "metadata": {},
   "outputs": [],
   "source": []
  }
 ],
 "metadata": {
  "kernelspec": {
   "display_name": "Python 3 (ipykernel)",
   "language": "python",
   "name": "python3"
  },
  "language_info": {
   "codemirror_mode": {
    "name": "ipython",
    "version": 3
   },
   "file_extension": ".py",
   "mimetype": "text/x-python",
   "name": "python",
   "nbconvert_exporter": "python",
   "pygments_lexer": "ipython3",
   "version": "3.9.7"
  }
 },
 "nbformat": 4,
 "nbformat_minor": 5
}
