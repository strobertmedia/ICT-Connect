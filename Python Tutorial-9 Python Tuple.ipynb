{
 "cells": [
  {
   "cell_type": "code",
   "execution_count": 20,
   "id": "b04a5392",
   "metadata": {},
   "outputs": [
    {
     "data": {
      "text/plain": [
       "tuple"
      ]
     },
     "execution_count": 20,
     "metadata": {},
     "output_type": "execute_result"
    }
   ],
   "source": [
    "#simple python tuple\n",
    "tup= ('Airplane', 'Jet', 'Fighterjet', 'Rocket', 'Parachute')\n",
    "type(tup)"
   ]
  },
  {
   "cell_type": "code",
   "execution_count": 12,
   "id": "5bee5497",
   "metadata": {},
   "outputs": [
    {
     "data": {
      "text/plain": [
       "('Airplane', 'Jet', 'Fighterjet', 'Rocket', 'Parachute')"
      ]
     },
     "execution_count": 12,
     "metadata": {},
     "output_type": "execute_result"
    }
   ],
   "source": [
    "tup"
   ]
  },
  {
   "cell_type": "code",
   "execution_count": 13,
   "id": "add41a8a",
   "metadata": {},
   "outputs": [
    {
     "data": {
      "text/plain": [
       "'Jet'"
      ]
     },
     "execution_count": 13,
     "metadata": {},
     "output_type": "execute_result"
    }
   ],
   "source": [
    "tup[1]"
   ]
  },
  {
   "cell_type": "code",
   "execution_count": 14,
   "id": "7a029f05",
   "metadata": {},
   "outputs": [
    {
     "data": {
      "text/plain": [
       "'Rocket'"
      ]
     },
     "execution_count": 14,
     "metadata": {},
     "output_type": "execute_result"
    }
   ],
   "source": [
    "tup[-2]"
   ]
  },
  {
   "cell_type": "code",
   "execution_count": 37,
   "id": "98204c6e",
   "metadata": {},
   "outputs": [
    {
     "data": {
      "text/plain": [
       "['Airplane', 'Jet', 'Fighterjet', 'Rocket', 'Parachute']"
      ]
     },
     "execution_count": 37,
     "metadata": {},
     "output_type": "execute_result"
    }
   ],
   "source": [
    "#convert tuple to list\n",
    "tup_list= list(tup)\n",
    "tup_list"
   ]
  },
  {
   "cell_type": "code",
   "execution_count": 38,
   "id": "0d9febfc",
   "metadata": {},
   "outputs": [
    {
     "name": "stdout",
     "output_type": "stream",
     "text": [
      "['Airplane', 'Jet', 'Fighterjet', 'Rocket']\n"
     ]
    }
   ],
   "source": [
    "#remove item from list\n",
    "tup_list.remove('Parachute')\n",
    "print(tup_list)"
   ]
  },
  {
   "cell_type": "code",
   "execution_count": 39,
   "id": "c284bf4e",
   "metadata": {},
   "outputs": [
    {
     "data": {
      "text/plain": [
       "('Airplane', 'Jet', 'Fighterjet', 'Rocket')"
      ]
     },
     "execution_count": 39,
     "metadata": {},
     "output_type": "execute_result"
    }
   ],
   "source": [
    "#convert list to tuple\n",
    "tup= tuple(tup_list)\n",
    "tup"
   ]
  },
  {
   "cell_type": "code",
   "execution_count": 46,
   "id": "7ff06a25",
   "metadata": {},
   "outputs": [],
   "source": [
    "#unpacking tuples\n",
    "\n",
    "var_tuple=('Airplane', 'Jet', 'Fighterjet', 'Rocket', 'Parachute')\n",
    "(Airfloor, Jetlag, warjet, Rocketier, Poly)=var_tuple"
   ]
  },
  {
   "cell_type": "code",
   "execution_count": 51,
   "id": "5446c178",
   "metadata": {},
   "outputs": [
    {
     "name": "stdout",
     "output_type": "stream",
     "text": [
      "Airplane\n",
      "Jet\n",
      "Fighterjet\n",
      "Rocket\n",
      "Parachute\n"
     ]
    }
   ],
   "source": [
    "print(Airfloor)\n",
    "print(Jetlag)\n",
    "print(warjet)\n",
    "print(Rocketier)\n",
    "print(Poly)"
   ]
  },
  {
   "cell_type": "code",
   "execution_count": 54,
   "id": "608ab568",
   "metadata": {},
   "outputs": [],
   "source": [
    "#unpacking tuples\n",
    "\n",
    "var_tuple=('Airplane', 'Jet', 'Fighterjet', 'Rocket', 'Parachute')\n",
    "(Airfloor, *Jetlag, warjet)=var_tuple"
   ]
  },
  {
   "cell_type": "code",
   "execution_count": 53,
   "id": "b1d97d18",
   "metadata": {},
   "outputs": [
    {
     "name": "stdout",
     "output_type": "stream",
     "text": [
      "['Fighterjet', 'Rocket', 'Parachute']\n"
     ]
    }
   ],
   "source": [
    "print(warjet)"
   ]
  },
  {
   "cell_type": "code",
   "execution_count": 55,
   "id": "13bf2680",
   "metadata": {},
   "outputs": [
    {
     "name": "stdout",
     "output_type": "stream",
     "text": [
      "['Jet', 'Fighterjet', 'Rocket']\n"
     ]
    }
   ],
   "source": [
    "print(Jetlag)"
   ]
  },
  {
   "cell_type": "code",
   "execution_count": 57,
   "id": "7087fae6",
   "metadata": {},
   "outputs": [],
   "source": [
    "var_tuple=('Airplane', 'Jet', 'Parachute')\n",
    "va_tuple= ('Fighterjet', 'Rocket')"
   ]
  },
  {
   "cell_type": "code",
   "execution_count": 58,
   "id": "641d0294",
   "metadata": {},
   "outputs": [
    {
     "data": {
      "text/plain": [
       "('Airplane', 'Jet', 'Parachute', 'Fighterjet', 'Rocket')"
      ]
     },
     "execution_count": 58,
     "metadata": {},
     "output_type": "execute_result"
    }
   ],
   "source": [
    "var_tuple= var_tuple+va_tuple\n",
    "var_tuple"
   ]
  },
  {
   "cell_type": "code",
   "execution_count": 59,
   "id": "2a4f9d39",
   "metadata": {},
   "outputs": [
    {
     "data": {
      "text/plain": [
       "('Airplane',\n",
       " 'Jet',\n",
       " 'Parachute',\n",
       " 'Fighterjet',\n",
       " 'Rocket',\n",
       " 'Fighterjet',\n",
       " 'Rocket')"
      ]
     },
     "execution_count": 59,
     "metadata": {},
     "output_type": "execute_result"
    }
   ],
   "source": [
    "#Add tuples \n",
    "var_tuple+= va_tuple\n",
    "var_tuple"
   ]
  },
  {
   "cell_type": "code",
   "execution_count": 60,
   "id": "e1c4e0ed",
   "metadata": {},
   "outputs": [],
   "source": [
    "tup= ('Airplane', 'Jet', 'Parachute', 'Fighterjet', 'Rocket', 'Airplane')"
   ]
  },
  {
   "cell_type": "code",
   "execution_count": 61,
   "id": "c671fc62",
   "metadata": {},
   "outputs": [
    {
     "data": {
      "text/plain": [
       "2"
      ]
     },
     "execution_count": 61,
     "metadata": {},
     "output_type": "execute_result"
    }
   ],
   "source": [
    "tup.count('Airplane')"
   ]
  },
  {
   "cell_type": "code",
   "execution_count": 66,
   "id": "10d01cc3",
   "metadata": {},
   "outputs": [
    {
     "data": {
      "text/plain": [
       "0"
      ]
     },
     "execution_count": 66,
     "metadata": {},
     "output_type": "execute_result"
    }
   ],
   "source": [
    "tup.index('Airplane')"
   ]
  },
  {
   "cell_type": "code",
   "execution_count": 70,
   "id": "97526bd3",
   "metadata": {},
   "outputs": [
    {
     "data": {
      "text/plain": [
       "[(0, 'Airplane'),\n",
       " (1, 'Jet'),\n",
       " (2, 'Parachute'),\n",
       " (3, 'Fighterjet'),\n",
       " (4, 'Rocket'),\n",
       " (5, 'Airplane')]"
      ]
     },
     "execution_count": 70,
     "metadata": {},
     "output_type": "execute_result"
    }
   ],
   "source": [
    "#retrieve tuple index using enumerate method and present as callable list\n",
    "variab= list(enumerate(tup))\n",
    "variab"
   ]
  },
  {
   "cell_type": "code",
   "execution_count": 72,
   "id": "96926840",
   "metadata": {},
   "outputs": [],
   "source": [
    "#access items in new enumerated list\n",
    "append_list= []\n",
    "\n",
    "\n",
    "for index,character in variab:\n",
    "    if character==\"Airplane\":\n",
    "        append_list.append(index)"
   ]
  },
  {
   "cell_type": "code",
   "execution_count": 73,
   "id": "5053102a",
   "metadata": {},
   "outputs": [
    {
     "data": {
      "text/plain": [
       "[0, 5]"
      ]
     },
     "execution_count": 73,
     "metadata": {},
     "output_type": "execute_result"
    }
   ],
   "source": [
    "append_list"
   ]
  },
  {
   "cell_type": "code",
   "execution_count": 76,
   "id": "c1cd5b22",
   "metadata": {},
   "outputs": [
    {
     "data": {
      "text/plain": [
       "('one', 'two', 'one', 'two')"
      ]
     },
     "execution_count": 76,
     "metadata": {},
     "output_type": "execute_result"
    }
   ],
   "source": [
    "#multiple lists\n",
    "mult_tuple= ('one', 'two')\n",
    "mul= mult_tuple * 2\n",
    "mul"
   ]
  },
  {
   "cell_type": "code",
   "execution_count": null,
   "id": "bee2b20c",
   "metadata": {},
   "outputs": [],
   "source": []
  },
  {
   "cell_type": "code",
   "execution_count": null,
   "id": "c8a51f77",
   "metadata": {},
   "outputs": [],
   "source": []
  },
  {
   "cell_type": "code",
   "execution_count": null,
   "id": "7e261cfc",
   "metadata": {},
   "outputs": [],
   "source": []
  },
  {
   "cell_type": "code",
   "execution_count": null,
   "id": "d2926db2",
   "metadata": {},
   "outputs": [],
   "source": []
  },
  {
   "cell_type": "code",
   "execution_count": null,
   "id": "bc6a7838",
   "metadata": {},
   "outputs": [],
   "source": []
  },
  {
   "cell_type": "code",
   "execution_count": null,
   "id": "3c85e360",
   "metadata": {},
   "outputs": [],
   "source": []
  }
 ],
 "metadata": {
  "kernelspec": {
   "display_name": "Python 3 (ipykernel)",
   "language": "python",
   "name": "python3"
  },
  "language_info": {
   "codemirror_mode": {
    "name": "ipython",
    "version": 3
   },
   "file_extension": ".py",
   "mimetype": "text/x-python",
   "name": "python",
   "nbconvert_exporter": "python",
   "pygments_lexer": "ipython3",
   "version": "3.9.7"
  }
 },
 "nbformat": 4,
 "nbformat_minor": 5
}
